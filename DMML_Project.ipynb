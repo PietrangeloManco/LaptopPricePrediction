{
 "cells": [
  {
   "cell_type": "markdown",
   "id": "6165a04b",
   "metadata": {},
   "source": [
    "# DMML Project: Laptop Price Regression"
   ]
  },
  {
   "cell_type": "code",
   "execution_count": 59,
   "id": "60635811-bb0f-4cb5-b9c6-a5eb1c5ba2db",
   "metadata": {},
   "outputs": [],
   "source": [
    "# Imports\n",
    "import os\n",
    "import re\n",
    "import smogn\n",
    "import time\n",
    "import numpy as np\n",
    "import pandas as pd\n",
    "import seaborn as sns\n",
    "import matplotlib.pylab as plt\n",
    "from scipy.stats import wilcoxon\n",
    "from imblearn.pipeline import Pipeline\n",
    "from sklearn.preprocessing import RobustScaler\n",
    "from sklearn.model_selection import GridSearchCV\n",
    "from sklearn.model_selection import KFold\n",
    "from sklearn.model_selection import cross_val_score\n",
    "from sklearn.model_selection import cross_validate\n",
    "from sklearn.feature_selection import RFE\n",
    "from sklearn.linear_model import LinearRegression\n",
    "from sklearn.neighbors import KNeighborsRegressor\n",
    "from sklearn.tree import DecisionTreeRegressor\n",
    "from sklearn.ensemble import RandomForestRegressor\n",
    "from sklearn.ensemble import AdaBoostRegressor\n",
    "from sklearn.ensemble import GradientBoostingRegressor\n",
    "from sklearn.metrics import make_scorer\n",
    "from sklearn.metrics import mean_absolute_error\n",
    "from sklearn.metrics import r2_score"
   ]
  },
  {
   "cell_type": "markdown",
   "id": "5719012a",
   "metadata": {},
   "source": [
    "# Dataset Inspection"
   ]
  },
  {
   "cell_type": "code",
   "execution_count": 60,
   "id": "0f91e801-1331-409e-850e-d9c0d39fcfdd",
   "metadata": {},
   "outputs": [],
   "source": [
    "# Load the dataset\n",
    "laptop_df = pd.read_csv(os.path.join('dataset','laptopData.csv'))"
   ]
  },
  {
   "cell_type": "code",
   "execution_count": 61,
   "id": "873cc353",
   "metadata": {},
   "outputs": [
    {
     "data": {
      "text/plain": [
       "(1303, 12)"
      ]
     },
     "execution_count": 61,
     "metadata": {},
     "output_type": "execute_result"
    }
   ],
   "source": [
    "# Check initial number of tuples and number of features\n",
    "laptop_df.shape"
   ]
  },
  {
   "cell_type": "code",
   "execution_count": 62,
   "id": "0d08ecfe-fa74-4152-82a6-8b68ca6b0ddd",
   "metadata": {},
   "outputs": [
    {
     "data": {
      "text/html": [
       "<div>\n",
       "<style scoped>\n",
       "    .dataframe tbody tr th:only-of-type {\n",
       "        vertical-align: middle;\n",
       "    }\n",
       "\n",
       "    .dataframe tbody tr th {\n",
       "        vertical-align: top;\n",
       "    }\n",
       "\n",
       "    .dataframe thead th {\n",
       "        text-align: right;\n",
       "    }\n",
       "</style>\n",
       "<table border=\"1\" class=\"dataframe\">\n",
       "  <thead>\n",
       "    <tr style=\"text-align: right;\">\n",
       "      <th></th>\n",
       "      <th>Unnamed: 0</th>\n",
       "      <th>Company</th>\n",
       "      <th>TypeName</th>\n",
       "      <th>Inches</th>\n",
       "      <th>ScreenResolution</th>\n",
       "      <th>Cpu</th>\n",
       "      <th>Ram</th>\n",
       "      <th>Memory</th>\n",
       "      <th>Gpu</th>\n",
       "      <th>OpSys</th>\n",
       "      <th>Weight</th>\n",
       "      <th>Price</th>\n",
       "    </tr>\n",
       "  </thead>\n",
       "  <tbody>\n",
       "    <tr>\n",
       "      <th>0</th>\n",
       "      <td>0.0</td>\n",
       "      <td>Apple</td>\n",
       "      <td>Ultrabook</td>\n",
       "      <td>13.3</td>\n",
       "      <td>IPS Panel Retina Display 2560x1600</td>\n",
       "      <td>Intel Core i5 2.3GHz</td>\n",
       "      <td>8GB</td>\n",
       "      <td>128GB SSD</td>\n",
       "      <td>Intel Iris Plus Graphics 640</td>\n",
       "      <td>macOS</td>\n",
       "      <td>1.37kg</td>\n",
       "      <td>71378.6832</td>\n",
       "    </tr>\n",
       "    <tr>\n",
       "      <th>1</th>\n",
       "      <td>1.0</td>\n",
       "      <td>Apple</td>\n",
       "      <td>Ultrabook</td>\n",
       "      <td>13.3</td>\n",
       "      <td>1440x900</td>\n",
       "      <td>Intel Core i5 1.8GHz</td>\n",
       "      <td>8GB</td>\n",
       "      <td>128GB Flash Storage</td>\n",
       "      <td>Intel HD Graphics 6000</td>\n",
       "      <td>macOS</td>\n",
       "      <td>1.34kg</td>\n",
       "      <td>47895.5232</td>\n",
       "    </tr>\n",
       "    <tr>\n",
       "      <th>2</th>\n",
       "      <td>2.0</td>\n",
       "      <td>HP</td>\n",
       "      <td>Notebook</td>\n",
       "      <td>15.6</td>\n",
       "      <td>Full HD 1920x1080</td>\n",
       "      <td>Intel Core i5 7200U 2.5GHz</td>\n",
       "      <td>8GB</td>\n",
       "      <td>256GB SSD</td>\n",
       "      <td>Intel HD Graphics 620</td>\n",
       "      <td>No OS</td>\n",
       "      <td>1.86kg</td>\n",
       "      <td>30636.0000</td>\n",
       "    </tr>\n",
       "    <tr>\n",
       "      <th>3</th>\n",
       "      <td>3.0</td>\n",
       "      <td>Apple</td>\n",
       "      <td>Ultrabook</td>\n",
       "      <td>15.4</td>\n",
       "      <td>IPS Panel Retina Display 2880x1800</td>\n",
       "      <td>Intel Core i7 2.7GHz</td>\n",
       "      <td>16GB</td>\n",
       "      <td>512GB SSD</td>\n",
       "      <td>AMD Radeon Pro 455</td>\n",
       "      <td>macOS</td>\n",
       "      <td>1.83kg</td>\n",
       "      <td>135195.3360</td>\n",
       "    </tr>\n",
       "    <tr>\n",
       "      <th>4</th>\n",
       "      <td>4.0</td>\n",
       "      <td>Apple</td>\n",
       "      <td>Ultrabook</td>\n",
       "      <td>13.3</td>\n",
       "      <td>IPS Panel Retina Display 2560x1600</td>\n",
       "      <td>Intel Core i5 3.1GHz</td>\n",
       "      <td>8GB</td>\n",
       "      <td>256GB SSD</td>\n",
       "      <td>Intel Iris Plus Graphics 650</td>\n",
       "      <td>macOS</td>\n",
       "      <td>1.37kg</td>\n",
       "      <td>96095.8080</td>\n",
       "    </tr>\n",
       "    <tr>\n",
       "      <th>...</th>\n",
       "      <td>...</td>\n",
       "      <td>...</td>\n",
       "      <td>...</td>\n",
       "      <td>...</td>\n",
       "      <td>...</td>\n",
       "      <td>...</td>\n",
       "      <td>...</td>\n",
       "      <td>...</td>\n",
       "      <td>...</td>\n",
       "      <td>...</td>\n",
       "      <td>...</td>\n",
       "      <td>...</td>\n",
       "    </tr>\n",
       "    <tr>\n",
       "      <th>1298</th>\n",
       "      <td>1298.0</td>\n",
       "      <td>Lenovo</td>\n",
       "      <td>2 in 1 Convertible</td>\n",
       "      <td>14</td>\n",
       "      <td>IPS Panel Full HD / Touchscreen 1920x1080</td>\n",
       "      <td>Intel Core i7 6500U 2.5GHz</td>\n",
       "      <td>4GB</td>\n",
       "      <td>128GB SSD</td>\n",
       "      <td>Intel HD Graphics 520</td>\n",
       "      <td>Windows 10</td>\n",
       "      <td>1.8kg</td>\n",
       "      <td>33992.6400</td>\n",
       "    </tr>\n",
       "    <tr>\n",
       "      <th>1299</th>\n",
       "      <td>1299.0</td>\n",
       "      <td>Lenovo</td>\n",
       "      <td>2 in 1 Convertible</td>\n",
       "      <td>13.3</td>\n",
       "      <td>IPS Panel Quad HD+ / Touchscreen 3200x1800</td>\n",
       "      <td>Intel Core i7 6500U 2.5GHz</td>\n",
       "      <td>16GB</td>\n",
       "      <td>512GB SSD</td>\n",
       "      <td>Intel HD Graphics 520</td>\n",
       "      <td>Windows 10</td>\n",
       "      <td>1.3kg</td>\n",
       "      <td>79866.7200</td>\n",
       "    </tr>\n",
       "    <tr>\n",
       "      <th>1300</th>\n",
       "      <td>1300.0</td>\n",
       "      <td>Lenovo</td>\n",
       "      <td>Notebook</td>\n",
       "      <td>14</td>\n",
       "      <td>1366x768</td>\n",
       "      <td>Intel Celeron Dual Core N3050 1.6GHz</td>\n",
       "      <td>2GB</td>\n",
       "      <td>64GB Flash Storage</td>\n",
       "      <td>Intel HD Graphics</td>\n",
       "      <td>Windows 10</td>\n",
       "      <td>1.5kg</td>\n",
       "      <td>12201.1200</td>\n",
       "    </tr>\n",
       "    <tr>\n",
       "      <th>1301</th>\n",
       "      <td>1301.0</td>\n",
       "      <td>HP</td>\n",
       "      <td>Notebook</td>\n",
       "      <td>15.6</td>\n",
       "      <td>1366x768</td>\n",
       "      <td>Intel Core i7 6500U 2.5GHz</td>\n",
       "      <td>6GB</td>\n",
       "      <td>1TB HDD</td>\n",
       "      <td>AMD Radeon R5 M330</td>\n",
       "      <td>Windows 10</td>\n",
       "      <td>2.19kg</td>\n",
       "      <td>40705.9200</td>\n",
       "    </tr>\n",
       "    <tr>\n",
       "      <th>1302</th>\n",
       "      <td>1302.0</td>\n",
       "      <td>Asus</td>\n",
       "      <td>Notebook</td>\n",
       "      <td>15.6</td>\n",
       "      <td>1366x768</td>\n",
       "      <td>Intel Celeron Dual Core N3050 1.6GHz</td>\n",
       "      <td>4GB</td>\n",
       "      <td>500GB HDD</td>\n",
       "      <td>Intel HD Graphics</td>\n",
       "      <td>Windows 10</td>\n",
       "      <td>2.2kg</td>\n",
       "      <td>19660.3200</td>\n",
       "    </tr>\n",
       "  </tbody>\n",
       "</table>\n",
       "<p>1303 rows × 12 columns</p>\n",
       "</div>"
      ],
      "text/plain": [
       "      Unnamed: 0 Company            TypeName Inches  \\\n",
       "0            0.0   Apple           Ultrabook   13.3   \n",
       "1            1.0   Apple           Ultrabook   13.3   \n",
       "2            2.0      HP            Notebook   15.6   \n",
       "3            3.0   Apple           Ultrabook   15.4   \n",
       "4            4.0   Apple           Ultrabook   13.3   \n",
       "...          ...     ...                 ...    ...   \n",
       "1298      1298.0  Lenovo  2 in 1 Convertible     14   \n",
       "1299      1299.0  Lenovo  2 in 1 Convertible   13.3   \n",
       "1300      1300.0  Lenovo            Notebook     14   \n",
       "1301      1301.0      HP            Notebook   15.6   \n",
       "1302      1302.0    Asus            Notebook   15.6   \n",
       "\n",
       "                                ScreenResolution  \\\n",
       "0             IPS Panel Retina Display 2560x1600   \n",
       "1                                       1440x900   \n",
       "2                              Full HD 1920x1080   \n",
       "3             IPS Panel Retina Display 2880x1800   \n",
       "4             IPS Panel Retina Display 2560x1600   \n",
       "...                                          ...   \n",
       "1298   IPS Panel Full HD / Touchscreen 1920x1080   \n",
       "1299  IPS Panel Quad HD+ / Touchscreen 3200x1800   \n",
       "1300                                    1366x768   \n",
       "1301                                    1366x768   \n",
       "1302                                    1366x768   \n",
       "\n",
       "                                       Cpu   Ram               Memory  \\\n",
       "0                     Intel Core i5 2.3GHz   8GB            128GB SSD   \n",
       "1                     Intel Core i5 1.8GHz   8GB  128GB Flash Storage   \n",
       "2               Intel Core i5 7200U 2.5GHz   8GB            256GB SSD   \n",
       "3                     Intel Core i7 2.7GHz  16GB            512GB SSD   \n",
       "4                     Intel Core i5 3.1GHz   8GB            256GB SSD   \n",
       "...                                    ...   ...                  ...   \n",
       "1298            Intel Core i7 6500U 2.5GHz   4GB            128GB SSD   \n",
       "1299            Intel Core i7 6500U 2.5GHz  16GB            512GB SSD   \n",
       "1300  Intel Celeron Dual Core N3050 1.6GHz   2GB   64GB Flash Storage   \n",
       "1301            Intel Core i7 6500U 2.5GHz   6GB              1TB HDD   \n",
       "1302  Intel Celeron Dual Core N3050 1.6GHz   4GB            500GB HDD   \n",
       "\n",
       "                               Gpu       OpSys  Weight        Price  \n",
       "0     Intel Iris Plus Graphics 640       macOS  1.37kg   71378.6832  \n",
       "1           Intel HD Graphics 6000       macOS  1.34kg   47895.5232  \n",
       "2            Intel HD Graphics 620       No OS  1.86kg   30636.0000  \n",
       "3               AMD Radeon Pro 455       macOS  1.83kg  135195.3360  \n",
       "4     Intel Iris Plus Graphics 650       macOS  1.37kg   96095.8080  \n",
       "...                            ...         ...     ...          ...  \n",
       "1298         Intel HD Graphics 520  Windows 10   1.8kg   33992.6400  \n",
       "1299         Intel HD Graphics 520  Windows 10   1.3kg   79866.7200  \n",
       "1300             Intel HD Graphics  Windows 10   1.5kg   12201.1200  \n",
       "1301            AMD Radeon R5 M330  Windows 10  2.19kg   40705.9200  \n",
       "1302             Intel HD Graphics  Windows 10   2.2kg   19660.3200  \n",
       "\n",
       "[1303 rows x 12 columns]"
      ]
     },
     "execution_count": 62,
     "metadata": {},
     "output_type": "execute_result"
    }
   ],
   "source": [
    "laptop_df"
   ]
  },
  {
   "cell_type": "markdown",
   "id": "2560884c",
   "metadata": {},
   "source": [
    "# Data Preprocessing"
   ]
  },
  {
   "cell_type": "code",
   "execution_count": 63,
   "id": "30ba689c-2017-4469-82fb-778d11865832",
   "metadata": {},
   "outputs": [],
   "source": [
    "# Start by removing the ID, as it's useless for the purpose\n",
    "laptop_df = laptop_df.drop(['Unnamed: 0'], axis = 1)"
   ]
  },
  {
   "cell_type": "code",
   "execution_count": 64,
   "id": "82632d3e-079c-4e0e-85f7-2061c89b87bc",
   "metadata": {},
   "outputs": [
    {
     "data": {
      "text/plain": [
       "Company             30\n",
       "TypeName            30\n",
       "Inches              30\n",
       "ScreenResolution    30\n",
       "Cpu                 30\n",
       "Ram                 30\n",
       "Memory              30\n",
       "Gpu                 30\n",
       "OpSys               30\n",
       "Weight              30\n",
       "Price               30\n",
       "dtype: int64"
      ]
     },
     "execution_count": 64,
     "metadata": {},
     "output_type": "execute_result"
    }
   ],
   "source": [
    "# Check missing values\n",
    "laptop_df.isna().sum()"
   ]
  },
  {
   "cell_type": "code",
   "execution_count": 65,
   "id": "6ebda6fc-3bfd-4d1e-87a4-7ff365e030fa",
   "metadata": {},
   "outputs": [
    {
     "name": "stdout",
     "output_type": "stream",
     "text": [
      "Company             0\n",
      "TypeName            0\n",
      "Inches              0\n",
      "ScreenResolution    0\n",
      "Cpu                 0\n",
      "Ram                 0\n",
      "Memory              0\n",
      "Gpu                 0\n",
      "OpSys               0\n",
      "Weight              0\n",
      "Price               0\n",
      "dtype: int64\n"
     ]
    }
   ],
   "source": [
    "# Null records are dropped as it appears null values were present only in completely null tuples\n",
    "df_notna = laptop_df.dropna(how='any')\n",
    "print(df_notna.isna().sum())"
   ]
  },
  {
   "cell_type": "code",
   "execution_count": 66,
   "id": "e181d059-c844-40bc-9783-d860b642175e",
   "metadata": {},
   "outputs": [
    {
     "data": {
      "text/plain": [
       "0.9769762087490407"
      ]
     },
     "execution_count": 66,
     "metadata": {},
     "output_type": "execute_result"
    }
   ],
   "source": [
    "# Fraction of tuples kept\n",
    "len(df_notna)/len(laptop_df)"
   ]
  },
  {
   "cell_type": "code",
   "execution_count": 67,
   "id": "9a103e94",
   "metadata": {},
   "outputs": [
    {
     "data": {
      "image/png": "[encoded data removed]",
      "text/plain": [
       "<Figure size 1000x500 with 1 Axes>"
      ]
     },
     "metadata": {},
     "output_type": "display_data"
    }
   ],
   "source": [
    "# Plotting the number of records before and after NULL removal\n",
    "count_before = len(laptop_df)\n",
    "\n",
    "count_after = len(df_notna)\n",
    "\n",
    "# Plotting histogram of record counts\n",
    "plt.figure(figsize=(10,5))\n",
    "bars = plt.bar(['Before NULL removal', 'After NULL removal'], [count_before, count_after], color=['y', 'b'], width = 0.4)\n",
    "plt.title('Number of Records Before and After NULL Records Removal')\n",
    "plt.ylabel('Number of Records')\n",
    "\n",
    "# Adding the values on top of each bar\n",
    "for bar in bars:\n",
    "    yval = bar.get_height()\n",
    "    plt.text(bar.get_x() + bar.get_width()/2, yval + 0.05, yval, ha='center', va='bottom')\n",
    "    \n",
    "plt.show()"
   ]
  },
  {
   "cell_type": "code",
   "execution_count": 68,
   "id": "a72948ab-1fad-4cb3-9620-a7a6f6e8ead3",
   "metadata": {},
   "outputs": [
    {
     "data": {
      "text/plain": [
       "array(['Apple', 'HP', 'Acer', 'Asus', 'Dell', 'Lenovo', 'Chuwi', 'MSI',\n",
       "       'Microsoft', 'Toshiba', 'Huawei', 'Xiaomi', 'Vero', 'Razer',\n",
       "       'Mediacom', 'Samsung', 'Google', 'Fujitsu', 'LG'], dtype=object)"
      ]
     },
     "execution_count": 68,
     "metadata": {},
     "output_type": "execute_result"
    }
   ],
   "source": [
    "# Verify the presence of eventual inconsistencies among features\n",
    "df_notna.Company.unique()"
   ]
  },
  {
   "cell_type": "code",
   "execution_count": 69,
   "id": "659492e0-8bcd-4a48-a949-6d7a479f076b",
   "metadata": {},
   "outputs": [
    {
     "data": {
      "text/plain": [
       "array(['Ultrabook', 'Notebook', 'Gaming', '2 in 1 Convertible',\n",
       "       'Workstation', 'Netbook'], dtype=object)"
      ]
     },
     "execution_count": 69,
     "metadata": {},
     "output_type": "execute_result"
    }
   ],
   "source": [
    "df_notna.TypeName.unique()"
   ]
  },
  {
   "cell_type": "code",
   "execution_count": 70,
   "id": "2cf04f4b-3541-4be5-8c6f-4a8c41efcca3",
   "metadata": {},
   "outputs": [
    {
     "data": {
      "text/plain": [
       "array(['13.3', '15.6', '15.4', '14', '12', '17.3', '13.5', '12.5', '13',\n",
       "       '18.4', '13.9', '11.6', '25.6', '35.6', '12.3', '27.3', '24',\n",
       "       '33.5', '?', '31.6', '17', '15', '14.1', '11.3', '10.1'],\n",
       "      dtype=object)"
      ]
     },
     "execution_count": 70,
     "metadata": {},
     "output_type": "execute_result"
    }
   ],
   "source": [
    "df_notna.Inches.unique()"
   ]
  },
  {
   "cell_type": "code",
   "execution_count": 71,
   "id": "25a7dff5-abb6-4edf-94bd-f7004ab16125",
   "metadata": {},
   "outputs": [
    {
     "data": {
      "text/plain": [
       "Inches\n",
       "15.6    640\n",
       "14      192\n",
       "17.3    162\n",
       "13.3    161\n",
       "12.5     38\n",
       "11.6     31\n",
       "12        6\n",
       "13.9      6\n",
       "13.5      5\n",
       "12.3      5\n",
       "15.4      4\n",
       "15        4\n",
       "35.6      3\n",
       "10.1      3\n",
       "24        2\n",
       "13        2\n",
       "18.4      1\n",
       "27.3      1\n",
       "33.5      1\n",
       "?         1\n",
       "31.6      1\n",
       "17        1\n",
       "14.1      1\n",
       "11.3      1\n",
       "25.6      1\n",
       "Name: count, dtype: int64"
      ]
     },
     "execution_count": 71,
     "metadata": {},
     "output_type": "execute_result"
    }
   ],
   "source": [
    "# '?' tuples need to be addressed\n",
    "df_notna.Inches.value_counts()"
   ]
  },
  {
   "cell_type": "code",
   "execution_count": 72,
   "id": "54036634-316d-46da-8be0-b61e07d48ff8",
   "metadata": {},
   "outputs": [],
   "source": [
    "# Since there is only one unkown value, the record is removed\n",
    "df_notna = df_notna[df_notna['Inches'] != '?']"
   ]
  },
  {
   "cell_type": "code",
   "execution_count": 73,
   "id": "164d6fe0-68c8-42f4-be00-6ef0766b6734",
   "metadata": {},
   "outputs": [
    {
     "data": {
      "text/plain": [
       "Inches\n",
       "15.6    640\n",
       "14      192\n",
       "17.3    162\n",
       "13.3    161\n",
       "12.5     38\n",
       "11.6     31\n",
       "12        6\n",
       "13.9      6\n",
       "13.5      5\n",
       "12.3      5\n",
       "15.4      4\n",
       "15        4\n",
       "35.6      3\n",
       "10.1      3\n",
       "24        2\n",
       "13        2\n",
       "18.4      1\n",
       "27.3      1\n",
       "33.5      1\n",
       "31.6      1\n",
       "17        1\n",
       "14.1      1\n",
       "11.3      1\n",
       "25.6      1\n",
       "Name: count, dtype: int64"
      ]
     },
     "execution_count": 73,
     "metadata": {},
     "output_type": "execute_result"
    }
   ],
   "source": [
    "# Control the issue was solved\n",
    "df_notna.Inches.value_counts()"
   ]
  },
  {
   "cell_type": "code",
   "execution_count": 74,
   "id": "0825878c-c428-459b-bc8a-541671c79a72",
   "metadata": {},
   "outputs": [
    {
     "data": {
      "text/plain": [
       "array(['1.37kg', '1.34kg', '1.86kg', '1.83kg', '2.1kg', '2.04kg', '1.3kg',\n",
       "       '1.6kg', '2.2kg', '0.92kg', '1.22kg', '2.5kg', '1.62kg', '1.91kg',\n",
       "       '2.3kg', '1.35kg', '1.88kg', '1.89kg', '1.65kg', '2.71kg', '1.2kg',\n",
       "       '1.44kg', '2.8kg', '2kg', '2.65kg', '2.77kg', '3.2kg', '1.49kg',\n",
       "       '2.4kg', '2.13kg', '2.43kg', '1.7kg', '1.4kg', '1.8kg', '1.9kg',\n",
       "       '3kg', '1.252kg', '2.7kg', '2.02kg', '1.63kg', '1.96kg', '1.21kg',\n",
       "       '2.45kg', '1.25kg', '1.5kg', '2.62kg', '1.38kg', '1.58kg',\n",
       "       '1.85kg', '1.23kg', '2.16kg', '2.36kg', '7.2kg', '2.05kg',\n",
       "       '1.32kg', '1.75kg', '0.97kg', '2.56kg', '1.48kg', '1.74kg',\n",
       "       '1.1kg', '1.56kg', '2.03kg', '1.05kg', '5.4kg', '4.4kg', '1.90kg',\n",
       "       '1.29kg', '2.0kg', '1.95kg', '2.06kg', '1.12kg', '3.49kg',\n",
       "       '3.35kg', '2.23kg', '?', '2.9kg', '4.42kg', '2.69kg', '2.37kg',\n",
       "       '4.7kg', '3.6kg', '2.08kg', '4.3kg', '1.68kg', '1.41kg', '4.14kg',\n",
       "       '2.18kg', '2.24kg', '2.67kg', '4.1kg', '2.14kg', '1.36kg',\n",
       "       '2.25kg', '2.15kg', '2.19kg', '2.54kg', '3.42kg', '5.8kg',\n",
       "       '1.28kg', '2.33kg', '1.45kg', '2.79kg', '8.23kg', '1.26kg',\n",
       "       '1.84kg', '0.0002kg', '2.6kg', '2.26kg', '3.25kg', '1.59kg',\n",
       "       '1.13kg', '1.42kg', '1.78kg', '1.10kg', '1.15kg', '1.27kg',\n",
       "       '1.43kg', '2.31kg', '1.16kg', '1.64kg', '2.17kg', '1.47kg',\n",
       "       '3.78kg', '1.79kg', '0.91kg', '1.99kg', '4.33kg', '1.93kg',\n",
       "       '1.87kg', '2.63kg', '3.4kg', '3.14kg', '1.94kg', '1.24kg', '4.6kg',\n",
       "       '4.5kg', '8.4kg', '2.73kg', '1.39kg', '2.29kg', '2.59kg', '2.94kg',\n",
       "       '11.1kg', '1.14kg', '3.8kg', '6.2kg', '3.31kg', '1.09kg', '3.21kg',\n",
       "       '1.19kg', '1.98kg', '1.17kg', '4.36kg', '1.71kg', '2.32kg',\n",
       "       '4.2kg', '1.55kg', '0.81kg', '1.18kg', '2.72kg', '1.31kg',\n",
       "       '0.920kg', '3.74kg', '1.76kg', '1.54kg', '2.83kg', '2.07kg',\n",
       "       '2.38kg', '3.58kg', '1.08kg', '2.20kg', '0.98kg', '2.75kg',\n",
       "       '1.70kg', '2.99kg', '1.11kg', '2.09kg', '4kg', '3.0kg', '0.99kg',\n",
       "       '0.69kg', '3.52kg', '2.591kg', '2.21kg', '3.3kg', '2.191kg',\n",
       "       '2.34kg', '4.0kg'], dtype=object)"
      ]
     },
     "execution_count": 74,
     "metadata": {},
     "output_type": "execute_result"
    }
   ],
   "source": [
    "df_notna.Weight.unique()"
   ]
  },
  {
   "cell_type": "code",
   "execution_count": 75,
   "id": "61f95436-0a5b-4020-8201-e4fdfc710ec6",
   "metadata": {},
   "outputs": [
    {
     "data": {
      "text/plain": [
       "1"
      ]
     },
     "execution_count": 75,
     "metadata": {},
     "output_type": "execute_result"
    }
   ],
   "source": [
    "df_notna.Weight.value_counts().get('?',0)"
   ]
  },
  {
   "cell_type": "code",
   "execution_count": 76,
   "id": "65e44759-cfbd-4811-881f-ee4dbaf0834e",
   "metadata": {},
   "outputs": [],
   "source": [
    "# Since there is only one uknown value, the record is dropped\n",
    "df_notna = df_notna[df_notna['Weight'] != '?']"
   ]
  },
  {
   "cell_type": "code",
   "execution_count": 77,
   "id": "168296b4-afc5-4613-aac2-c6ff3267c3f5",
   "metadata": {},
   "outputs": [],
   "source": [
    "# The records with a weight under a certain treshold are dropped, as they are wrong or not laptops\n",
    "df_notna['Weight'] = df_notna['Weight'].str.replace('kg', '').astype(float)\n",
    "df_notna = df_notna[df_notna['Weight'] >= 0.3]"
   ]
  },
  {
   "cell_type": "code",
   "execution_count": 78,
   "id": "c7cc5f1b-625c-42e1-afd1-06a25095f4d9",
   "metadata": {},
   "outputs": [
    {
     "data": {
      "text/plain": [
       "array(['IPS Panel Retina Display 2560x1600', '1440x900',\n",
       "       'Full HD 1920x1080', 'IPS Panel Retina Display 2880x1800',\n",
       "       '1366x768', 'IPS Panel Full HD 1920x1080',\n",
       "       'IPS Panel Retina Display 2304x1440',\n",
       "       'IPS Panel Full HD / Touchscreen 1920x1080',\n",
       "       'Full HD / Touchscreen 1920x1080',\n",
       "       'Touchscreen / Quad HD+ 3200x1800', 'Touchscreen 2256x1504',\n",
       "       'Quad HD+ / Touchscreen 3200x1800', 'IPS Panel 1366x768',\n",
       "       'IPS Panel 4K Ultra HD / Touchscreen 3840x2160',\n",
       "       'IPS Panel Full HD 2160x1440',\n",
       "       '4K Ultra HD / Touchscreen 3840x2160', '1600x900',\n",
       "       'IPS Panel 4K Ultra HD 3840x2160', '4K Ultra HD 3840x2160',\n",
       "       'Touchscreen 1366x768', 'Touchscreen 2560x1440',\n",
       "       'IPS Panel Full HD 1366x768', 'IPS Panel 2560x1440',\n",
       "       'IPS Panel Full HD 2560x1440',\n",
       "       'IPS Panel Retina Display 2736x1824', 'Touchscreen 2400x1600',\n",
       "       '2560x1440', 'IPS Panel Quad HD+ 2560x1440',\n",
       "       'IPS Panel Quad HD+ 3200x1800',\n",
       "       'IPS Panel Quad HD+ / Touchscreen 3200x1800',\n",
       "       'IPS Panel Touchscreen 1366x768', '1920x1080',\n",
       "       'IPS Panel Full HD 1920x1200',\n",
       "       'IPS Panel Touchscreen / 4K Ultra HD 3840x2160',\n",
       "       'IPS Panel Touchscreen 2560x1440',\n",
       "       'Touchscreen / Full HD 1920x1080', 'Quad HD+ 3200x1800',\n",
       "       'IPS Panel Touchscreen 1920x1200',\n",
       "       'Touchscreen / 4K Ultra HD 3840x2160',\n",
       "       'IPS Panel Touchscreen 2400x1600'], dtype=object)"
      ]
     },
     "execution_count": 78,
     "metadata": {},
     "output_type": "execute_result"
    }
   ],
   "source": [
    "df_notna.ScreenResolution.unique()"
   ]
  },
  {
   "cell_type": "code",
   "execution_count": 79,
   "id": "ed5573a8-221e-48a2-8c00-0e3b35a67ea5",
   "metadata": {},
   "outputs": [
    {
     "data": {
      "text/plain": [
       "ScreenResolution\n",
       "Full HD 1920x1080                                492\n",
       "1366x768                                         274\n",
       "IPS Panel Full HD 1920x1080                      226\n",
       "IPS Panel Full HD / Touchscreen 1920x1080         52\n",
       "Full HD / Touchscreen 1920x1080                   45\n",
       "1600x900                                          23\n",
       "Touchscreen 1366x768                              16\n",
       "Quad HD+ / Touchscreen 3200x1800                  14\n",
       "IPS Panel 4K Ultra HD 3840x2160                   12\n",
       "IPS Panel 4K Ultra HD / Touchscreen 3840x2160     11\n",
       "4K Ultra HD / Touchscreen 3840x2160                9\n",
       "4K Ultra HD 3840x2160                              7\n",
       "IPS Panel 1366x768                                 7\n",
       "IPS Panel Retina Display 2560x1600                 6\n",
       "IPS Panel Quad HD+ / Touchscreen 3200x1800         6\n",
       "Touchscreen 2560x1440                              6\n",
       "IPS Panel Retina Display 2304x1440                 6\n",
       "Touchscreen 2256x1504                              6\n",
       "IPS Panel Touchscreen 2560x1440                    5\n",
       "1440x900                                           4\n",
       "IPS Panel 2560x1440                                4\n",
       "IPS Panel Retina Display 2880x1800                 4\n",
       "1920x1080                                          3\n",
       "IPS Panel Touchscreen 1920x1200                    3\n",
       "Quad HD+ 3200x1800                                 3\n",
       "Touchscreen 2400x1600                              3\n",
       "2560x1440                                          3\n",
       "IPS Panel Quad HD+ 2560x1440                       3\n",
       "IPS Panel Touchscreen 1366x768                     3\n",
       "IPS Panel Full HD 2160x1440                        2\n",
       "IPS Panel Touchscreen / 4K Ultra HD 3840x2160      2\n",
       "IPS Panel Quad HD+ 3200x1800                       2\n",
       "IPS Panel Full HD 1920x1200                        1\n",
       "IPS Panel Retina Display 2736x1824                 1\n",
       "IPS Panel Full HD 2560x1440                        1\n",
       "Touchscreen / Full HD 1920x1080                    1\n",
       "IPS Panel Full HD 1366x768                         1\n",
       "Touchscreen / Quad HD+ 3200x1800                   1\n",
       "Touchscreen / 4K Ultra HD 3840x2160                1\n",
       "IPS Panel Touchscreen 2400x1600                    1\n",
       "Name: count, dtype: int64"
      ]
     },
     "execution_count": 79,
     "metadata": {},
     "output_type": "execute_result"
    }
   ],
   "source": [
    "# This time there are more inconsitencies\n",
    "df_notna.ScreenResolution.value_counts()"
   ]
  },
  {
   "cell_type": "code",
   "execution_count": 80,
   "id": "a21ba9a5-c5b5-4a6e-9766-b0ab69eebb36",
   "metadata": {},
   "outputs": [],
   "source": [
    "# The strategy adopted to solve this is to merge the values with the same resolution and to leave only the number\n",
    "# Then the 2 dimensions are multiplied to get a single number\n",
    "def extract_resolution(resolution):\n",
    "    match = re.search(r'(\\d+)x(\\d+)', resolution)\n",
    "    if match:\n",
    "        width, height = map(int, match.groups())\n",
    "        return width * height\n",
    "    return np.nan\n",
    "\n",
    "df_notna.loc[:, 'ScreenResolution'] = df_notna['ScreenResolution'].apply(extract_resolution)"
   ]
  },
  {
   "cell_type": "code",
   "execution_count": 81,
   "id": "ced39371-3566-4643-9699-63e7363b6709",
   "metadata": {},
   "outputs": [
    {
     "data": {
      "text/plain": [
       "ScreenResolution\n",
       "2073600    819\n",
       "1049088    301\n",
       "8294400     42\n",
       "5760000     26\n",
       "1440000     23\n",
       "3686400     22\n",
       "4096000      6\n",
       "3317760      6\n",
       "3393024      6\n",
       "1296000      4\n",
       "5184000      4\n",
       "3840000      4\n",
       "2304000      4\n",
       "3110400      2\n",
       "4990464      1\n",
       "Name: count, dtype: int64"
      ]
     },
     "execution_count": 81,
     "metadata": {},
     "output_type": "execute_result"
    }
   ],
   "source": [
    "# Control the issue was solved\n",
    "df_notna.ScreenResolution.value_counts()"
   ]
  },
  {
   "cell_type": "code",
   "execution_count": 82,
   "id": "a9bad829",
   "metadata": {},
   "outputs": [
    {
     "data": {
      "image/png": "[encoded data removed]",
      "text/plain": [
       "<Figure size 1000x500 with 1 Axes>"
      ]
     },
     "metadata": {},
     "output_type": "display_data"
    }
   ],
   "source": [
    "# Compute the frequency of each screen resolution\n",
    "screen_res_freq = df_notna['ScreenResolution'].value_counts()\n",
    "\n",
    "# Plotting bar plot of 'ScreenResolution' vs frequency\n",
    "plt.figure(figsize=(10,5))\n",
    "screen_res_freq.plot(kind='bar')\n",
    "plt.title('Screen Resolution vs Frequency')\n",
    "plt.xlabel('Screen Resolution')\n",
    "plt.ylabel('Frequency')\n",
    "plt.show()"
   ]
  },
  {
   "cell_type": "code",
   "execution_count": 83,
   "id": "43bb3e72-d035-43c3-8dba-c9a957469b9c",
   "metadata": {},
   "outputs": [
    {
     "data": {
      "text/plain": [
       "array(['Intel Core i5 2.3GHz', 'Intel Core i5 1.8GHz',\n",
       "       'Intel Core i5 7200U 2.5GHz', 'Intel Core i7 2.7GHz',\n",
       "       'Intel Core i5 3.1GHz', 'AMD A9-Series 9420 3GHz',\n",
       "       'Intel Core i7 2.2GHz', 'Intel Core i7 8550U 1.8GHz',\n",
       "       'Intel Core i5 8250U 1.6GHz', 'Intel Core i3 6006U 2GHz',\n",
       "       'Intel Core i7 2.8GHz', 'Intel Core M m3 1.2GHz',\n",
       "       'Intel Core i7 7500U 2.7GHz', 'Intel Core i7 2.9GHz',\n",
       "       'Intel Core i3 7100U 2.4GHz', 'Intel Core i5 7300HQ 2.5GHz',\n",
       "       'AMD E-Series E2-9000e 1.5GHz', 'Intel Core i5 1.6GHz',\n",
       "       'Intel Core i7 8650U 1.9GHz', 'Intel Atom x5-Z8300 1.44GHz',\n",
       "       'AMD E-Series E2-6110 1.5GHz', 'AMD A6-Series 9220 2.5GHz',\n",
       "       'Intel Celeron Dual Core N3350 1.1GHz',\n",
       "       'Intel Core i3 7130U 2.7GHz', 'Intel Core i7 7700HQ 2.8GHz',\n",
       "       'Intel Core i5 2.0GHz', 'AMD Ryzen 1700 3GHz',\n",
       "       'Intel Pentium Quad Core N4200 1.1GHz',\n",
       "       'Intel Celeron Dual Core N3060 1.6GHz', 'Intel Core i5 1.3GHz',\n",
       "       'AMD FX 9830P 3GHz', 'Intel Core i7 7560U 2.4GHz',\n",
       "       'AMD E-Series 6110 1.5GHz', 'Intel Core i5 6200U 2.3GHz',\n",
       "       'Intel Core M 6Y75 1.2GHz', 'Intel Core i5 7500U 2.7GHz',\n",
       "       'Intel Core i3 6006U 2.2GHz', 'AMD A6-Series 9220 2.9GHz',\n",
       "       'Intel Core i7 6920HQ 2.9GHz', 'Intel Core i5 7Y54 1.2GHz',\n",
       "       'Intel Core i7 7820HK 2.9GHz', 'Intel Xeon E3-1505M V6 3GHz',\n",
       "       'Intel Core i7 6500U 2.5GHz', 'AMD E-Series 9000e 1.5GHz',\n",
       "       'AMD A10-Series A10-9620P 2.5GHz', 'AMD A6-Series A6-9220 2.5GHz',\n",
       "       'Intel Core i5 2.9GHz', 'Intel Core i7 6600U 2.6GHz',\n",
       "       'Intel Core i3 6006U 2.0GHz',\n",
       "       'Intel Celeron Dual Core 3205U 1.5GHz',\n",
       "       'Intel Core i7 7820HQ 2.9GHz', 'AMD A10-Series 9600P 2.4GHz',\n",
       "       'Intel Core i7 7600U 2.8GHz', 'AMD A8-Series 7410 2.2GHz',\n",
       "       'Intel Celeron Dual Core 3855U 1.6GHz',\n",
       "       'Intel Pentium Quad Core N3710 1.6GHz',\n",
       "       'AMD A12-Series 9720P 2.7GHz', 'Intel Core i5 7300U 2.6GHz',\n",
       "       'AMD A12-Series 9720P 3.6GHz',\n",
       "       'Intel Celeron Quad Core N3450 1.1GHz',\n",
       "       'Intel Celeron Dual Core N3060 1.60GHz',\n",
       "       'Intel Core i5 6440HQ 2.6GHz', 'Intel Core i7 6820HQ 2.7GHz',\n",
       "       'AMD Ryzen 1600 3.2GHz', 'Intel Core i7 7Y75 1.3GHz',\n",
       "       'Intel Core i5 7440HQ 2.8GHz', 'Intel Core i7 7660U 2.5GHz',\n",
       "       'Intel Core i7 7700HQ 2.7GHz', 'Intel Core M m3-7Y30 2.2GHz',\n",
       "       'Intel Core i5 7Y57 1.2GHz', 'Intel Core i7 6700HQ 2.6GHz',\n",
       "       'Intel Core i3 6100U 2.3GHz', 'Intel Atom x5-Z8350 1.44GHz',\n",
       "       'AMD A10-Series 9620P 2.5GHz', 'AMD E-Series 7110 1.8GHz',\n",
       "       'Intel Celeron Dual Core N3350 2.0GHz',\n",
       "       'AMD A9-Series A9-9420 3GHz', 'Intel Core i7 6820HK 2.7GHz',\n",
       "       'Intel Core M 7Y30 1.0GHz', 'Intel Xeon E3-1535M v6 3.1GHz',\n",
       "       'Intel Celeron Quad Core N3160 1.6GHz',\n",
       "       'Intel Core i5 6300U 2.4GHz', 'Intel Core i3 6100U 2.1GHz',\n",
       "       'AMD E-Series E2-9000 2.2GHz',\n",
       "       'Intel Celeron Dual Core N3050 1.6GHz',\n",
       "       'Intel Core M M3-6Y30 0.9GHz', 'AMD A9-Series 9420 2.9GHz',\n",
       "       'Intel Core i5 6300HQ 2.3GHz', 'AMD A6-Series 7310 2GHz',\n",
       "       'Intel Atom Z8350 1.92GHz', 'Intel Xeon E3-1535M v5 2.9GHz',\n",
       "       'Intel Core i5 6260U 1.8GHz',\n",
       "       'Intel Pentium Dual Core N4200 1.1GHz',\n",
       "       'Intel Celeron Quad Core N3710 1.6GHz', 'Intel Core M 1.2GHz',\n",
       "       'AMD A12-Series 9700P 2.5GHz', 'Intel Core i7 7500U 2.5GHz',\n",
       "       'Intel Pentium Dual Core 4405U 2.1GHz',\n",
       "       'AMD A4-Series 7210 2.2GHz', 'Intel Core i7 6560U 2.2GHz',\n",
       "       'Intel Core M m7-6Y75 1.2GHz', 'AMD FX 8800P 2.1GHz',\n",
       "       'Intel Core M M7-6Y75 1.2GHz', 'Intel Core i5 7200U 2.50GHz',\n",
       "       'Intel Core i5 7200U 2.70GHz', 'Intel Atom X5-Z8350 1.44GHz',\n",
       "       'Intel Core i5 7200U 2.7GHz', 'Intel Core M 1.1GHz',\n",
       "       'Intel Atom x5-Z8550 1.44GHz',\n",
       "       'Intel Pentium Dual Core 4405Y 1.5GHz',\n",
       "       'Intel Pentium Quad Core N3700 1.6GHz', 'Intel Core M 6Y54 1.1GHz',\n",
       "       'Intel Core i7 6500U 2.50GHz',\n",
       "       'Intel Celeron Dual Core N3350 2GHz',\n",
       "       'Samsung Cortex A72&A53 2.0GHz', 'AMD E-Series 9000 2.2GHz',\n",
       "       'Intel Core M 6Y30 0.9GHz', 'AMD A9-Series 9410 2.9GHz'],\n",
       "      dtype=object)"
      ]
     },
     "execution_count": 83,
     "metadata": {},
     "output_type": "execute_result"
    }
   ],
   "source": [
    "df_notna.Cpu.unique()"
   ]
  },
  {
   "cell_type": "code",
   "execution_count": 84,
   "id": "0c3f58ba-c03a-4443-a06e-e091ca1373d9",
   "metadata": {},
   "outputs": [
    {
     "data": {
      "text/plain": [
       "CpuProducer\n",
       "Intel      1207\n",
       "AMD          62\n",
       "Samsung       1\n",
       "Name: count, dtype: int64"
      ]
     },
     "execution_count": 84,
     "metadata": {},
     "output_type": "execute_result"
    }
   ],
   "source": [
    "# Start by extracting the producer\n",
    "df_notna = df_notna.copy()\n",
    "df_notna['CpuProducer'] = df_notna['Cpu'].str.split().str[0]\n",
    "df_notna.CpuProducer.value_counts()"
   ]
  },
  {
   "cell_type": "code",
   "execution_count": 85,
   "id": "fa57d391-4593-4e22-9145-3676fb3bb079",
   "metadata": {},
   "outputs": [],
   "source": [
    "# Drop Samsung as there is only one and it's probably a mobile, so a wrong record\n",
    "df_notna = df_notna[df_notna['CpuProducer'] != 'Samsung']"
   ]
  },
  {
   "cell_type": "code",
   "execution_count": 86,
   "id": "a8f26ade",
   "metadata": {},
   "outputs": [
    {
     "data": {
      "image/png": "[encoded data removed]",
      "text/plain": [
       "<Figure size 1000x500 with 1 Axes>"
      ]
     },
     "metadata": {},
     "output_type": "display_data"
    }
   ],
   "source": [
    "# Plotting the CpuProducer feature frequencies\n",
    "cpu_producer_freq = df_notna['CpuProducer'].value_counts()\n",
    "\n",
    "plt.figure(figsize=(10,5))\n",
    "bars = plt.bar(cpu_producer_freq.index, cpu_producer_freq.values, color=['y', 'b'], width = 0.4)\n",
    "plt.title('CpuProducer Feature')\n",
    "plt.ylabel('Number of Records')\n",
    "\n",
    "# Adding the values on top of each bar\n",
    "for bar in bars:\n",
    "    yval = bar.get_height()\n",
    "    plt.text(bar.get_x() + bar.get_width()/2, yval + 0.05, yval, ha='center', va='bottom')\n",
    "    \n",
    "plt.show()"
   ]
  },
  {
   "cell_type": "code",
   "execution_count": 87,
   "id": "13afb73d-747f-472c-a7b7-9144f48fb99f",
   "metadata": {},
   "outputs": [
    {
     "data": {
      "text/plain": [
       "array(['Core i5', 'Core i5 7200U', 'Core i7', 'A9-Series 9420',\n",
       "       'Core i7 8550U', 'Core i5 8250U', 'Core i3 6006U', 'Core M m3',\n",
       "       'Core i7 7500U', 'Core i3 7100U', 'Core i5 7300HQ',\n",
       "       'E-Series E2-9000e', 'Core i7 8650U', 'Atom x5-Z8300',\n",
       "       'E-Series E2-6110', 'A6-Series 9220', 'Celeron Dual Core N3350',\n",
       "       'Core i3 7130U', 'Core i7 7700HQ', 'Ryzen 1700',\n",
       "       'Pentium Quad Core N4200', 'Celeron Dual Core N3060', 'FX 9830P',\n",
       "       'Core i7 7560U', 'E-Series 6110', 'Core i5 6200U', 'Core M 6Y75',\n",
       "       'Core i5 7500U', 'Core i7 6920HQ', 'Core i5 7Y54',\n",
       "       'Core i7 7820HK', 'Xeon E3-1505M V6', 'Core i7 6500U',\n",
       "       'E-Series 9000e', 'A10-Series A10-9620P', 'A6-Series A6-9220',\n",
       "       'Core i7 6600U', 'Celeron Dual Core 3205U', 'Core i7 7820HQ',\n",
       "       'A10-Series 9600P', 'Core i7 7600U', 'A8-Series 7410',\n",
       "       'Celeron Dual Core 3855U', 'Pentium Quad Core N3710',\n",
       "       'A12-Series 9720P', 'Core i5 7300U', 'Celeron Quad Core N3450',\n",
       "       'Core i5 6440HQ', 'Core i7 6820HQ', 'Ryzen 1600', 'Core i7 7Y75',\n",
       "       'Core i5 7440HQ', 'Core i7 7660U', 'Core M m3-7Y30',\n",
       "       'Core i5 7Y57', 'Core i7 6700HQ', 'Core i3 6100U', 'Atom x5-Z8350',\n",
       "       'A10-Series 9620P', 'E-Series 7110', 'A9-Series A9-9420',\n",
       "       'Core i7 6820HK', 'Core M 7Y30', 'Xeon E3-1535M v6',\n",
       "       'Celeron Quad Core N3160', 'Core i5 6300U', 'E-Series E2-9000',\n",
       "       'Celeron Dual Core N3050', 'Core M M3-6Y30', 'Core i5 6300HQ',\n",
       "       'A6-Series 7310', 'Atom Z8350', 'Xeon E3-1535M v5',\n",
       "       'Core i5 6260U', 'Pentium Dual Core N4200',\n",
       "       'Celeron Quad Core N3710', 'Core M', 'A12-Series 9700P',\n",
       "       'Pentium Dual Core 4405U', 'A4-Series 7210', 'Core i7 6560U',\n",
       "       'Core M m7-6Y75', 'FX 8800P', 'Core M M7-6Y75', 'Atom X5-Z8350',\n",
       "       'Atom x5-Z8550', 'Pentium Dual Core 4405Y',\n",
       "       'Pentium Quad Core N3700', 'Core M 6Y54', 'E-Series 9000',\n",
       "       'Core M 6Y30', 'A9-Series 9410'], dtype=object)"
      ]
     },
     "execution_count": 87,
     "metadata": {},
     "output_type": "execute_result"
    }
   ],
   "source": [
    "# Now to extract the model\n",
    "df_notna['CpuModel'] = df_notna['Cpu'].apply(lambda x: ' '.join(x.split()[1:-1]))\n",
    "df_notna.CpuModel.unique()"
   ]
  },
  {
   "cell_type": "code",
   "execution_count": 88,
   "id": "4fa9552f-6a26-4436-b475-44285276fa03",
   "metadata": {},
   "outputs": [
    {
     "data": {
      "text/plain": [
       "CpuModel\n",
       "Core i7              513\n",
       "Core i5              409\n",
       "Core i3              134\n",
       "Celeron Dual Core     79\n",
       "Pentium Quad Core     27\n",
       "Core M                19\n",
       "A9-Series             17\n",
       "A6-Series             11\n",
       "E-Series               9\n",
       "Celeron Quad Core      8\n",
       "A12-Series             8\n",
       "A10-Series             6\n",
       "Ryzen                  4\n",
       "Atom x5-Z8350          4\n",
       "A8-Series              4\n",
       "Pentium Dual Core      3\n",
       "Atom x5-Z8550          3\n",
       "FX                     2\n",
       "Atom X5-Z8350          2\n",
       "Xeon E3-1505M V6       2\n",
       "Xeon E3-1535M v6       1\n",
       "Atom Z8350             1\n",
       "Xeon E3-1535M v5       1\n",
       "Atom x5-Z8300          1\n",
       "A4-Series              1\n",
       "Name: count, dtype: int64"
      ]
     },
     "execution_count": 88,
     "metadata": {},
     "output_type": "execute_result"
    }
   ],
   "source": [
    "# Given the model structure, define a function to standardize it as much as possible\n",
    "def modify_model(row):\n",
    "    model_words = row['CpuModel'].split()\n",
    "    if row['CpuProducer'] == 'Intel':\n",
    "        if model_words[0] == 'Core':\n",
    "            return ' '.join(model_words[:2])\n",
    "        else:\n",
    "            return ' '.join(model_words[:3])\n",
    "    elif row['CpuProducer'] == 'AMD':\n",
    "        return model_words[0]\n",
    "    else:\n",
    "        return row['CpuModel']\n",
    "\n",
    "df_notna['CpuModel'] = df_notna.apply(modify_model, axis=1)\n",
    "df_notna.CpuModel.value_counts()"
   ]
  },
  {
   "cell_type": "code",
   "execution_count": 89,
   "id": "aacf0d5b-4fc1-4d62-8fa5-c0ab5971ccbf",
   "metadata": {},
   "outputs": [
    {
     "data": {
      "text/plain": [
       "CpuModel\n",
       "Core i7              513\n",
       "Core i5              409\n",
       "Core i3              134\n",
       "Celeron Dual Core     79\n",
       "Pentium Quad Core     27\n",
       "Core M                19\n",
       "A9-Series             17\n",
       "Atom                  11\n",
       "A6-Series             11\n",
       "E-Series               9\n",
       "Celeron Quad Core      8\n",
       "A12-Series             8\n",
       "A10-Series             6\n",
       "A8-Series              4\n",
       "Ryzen                  4\n",
       "Xeon                   4\n",
       "Pentium Dual Core      3\n",
       "FX                     2\n",
       "A4-Series              1\n",
       "Name: count, dtype: int64"
      ]
     },
     "execution_count": 89,
     "metadata": {},
     "output_type": "execute_result"
    }
   ],
   "source": [
    "# Further standardization\n",
    "def modify_model_2(row):\n",
    "    model_words = row['CpuModel'].split()\n",
    "    if model_words[0] in ['Xeon', 'Atom']:\n",
    "        return model_words[0]\n",
    "    else:\n",
    "        return row['CpuModel']\n",
    "\n",
    "df_notna['CpuModel'] = df_notna.apply(modify_model_2, axis=1)\n",
    "df_notna.CpuModel.value_counts()"
   ]
  },
  {
   "cell_type": "code",
   "execution_count": 90,
   "id": "99cd8758",
   "metadata": {},
   "outputs": [
    {
     "data": {
      "image/png": "[encoded data removed]",
      "text/plain": [
       "<Figure size 1000x500 with 1 Axes>"
      ]
     },
     "metadata": {},
     "output_type": "display_data"
    }
   ],
   "source": [
    "# Plotting the CpuModel feature frequencies\n",
    "cpu_model_freq = df_notna['CpuModel'].value_counts()\n",
    "\n",
    "plt.figure(figsize=(10,5))\n",
    "bars = plt.bar(cpu_model_freq.index, cpu_model_freq.values, color=['b'], width = 0.4)\n",
    "plt.title('CpuModel Feature')\n",
    "plt.ylabel('Number of Records')\n",
    "plt.xticks(rotation='vertical')\n",
    "\n",
    "# Adding the values on top of each bar\n",
    "for bar in bars:\n",
    "    yval = bar.get_height()\n",
    "    plt.text(bar.get_x() + bar.get_width()/2, yval + 0.05, yval, ha='center', va='bottom')\n",
    "    \n",
    "plt.show()"
   ]
  },
  {
   "cell_type": "code",
   "execution_count": 91,
   "id": "8d1edba2-f52e-4b9c-8253-00a0f6d7323c",
   "metadata": {},
   "outputs": [
    {
     "data": {
      "text/plain": [
       "CpuClockSpeed\n",
       "2.50    286\n",
       "2.80    160\n",
       "2.70    160\n",
       "1.60    128\n",
       "2.30     84\n",
       "2.00     83\n",
       "1.80     76\n",
       "2.60     75\n",
       "1.10     53\n",
       "2.40     52\n",
       "2.90     21\n",
       "3.00     19\n",
       "1.20     15\n",
       "2.20     11\n",
       "1.50     10\n",
       "1.44     10\n",
       "1.30      6\n",
       "3.60      5\n",
       "0.90      4\n",
       "3.10      3\n",
       "2.10      3\n",
       "1.90      2\n",
       "3.20      1\n",
       "1.00      1\n",
       "1.92      1\n",
       "Name: count, dtype: int64"
      ]
     },
     "execution_count": 91,
     "metadata": {},
     "output_type": "execute_result"
    }
   ],
   "source": [
    "# Finally, clock speed is extracted\n",
    "df_notna['CpuClockSpeed'] = df_notna['Cpu'].str.split().str[-1].str.replace('GHz', '').astype(float)\n",
    "df_notna.CpuClockSpeed.value_counts()"
   ]
  },
  {
   "cell_type": "code",
   "execution_count": 92,
   "id": "293a7820",
   "metadata": {},
   "outputs": [
    {
     "data": {
      "image/png": "[encoded data removed]",
      "text/plain": [
       "<Figure size 1000x500 with 1 Axes>"
      ]
     },
     "metadata": {},
     "output_type": "display_data"
    }
   ],
   "source": [
    "# Plotting the CpuClockSpeed feature frequencies\n",
    "cpu_clockspeed_freq = df_notna['CpuClockSpeed'].value_counts()\n",
    "\n",
    "plt.figure(figsize=(10,5))\n",
    "bars = plt.bar(cpu_clockspeed_freq.index, cpu_clockspeed_freq.values, color=['b'], width = 0.01)\n",
    "plt.title('CpuClockSpeed Feature')\n",
    "plt.ylabel('Number of Records')\n",
    "\n",
    "# Adding the values on top of each bar\n",
    "for bar in bars:\n",
    "    yval = bar.get_height()\n",
    "    plt.text(bar.get_x() + bar.get_width()/2, yval + 0.05, yval, ha='center', va='bottom')\n",
    "    \n",
    "plt.show()"
   ]
  },
  {
   "cell_type": "code",
   "execution_count": 93,
   "id": "c640a8f1-850e-49d6-a050-ae1c94967a0f",
   "metadata": {},
   "outputs": [],
   "source": [
    "# Drop the Cpu attribute after extracting all the information from it\n",
    "df_notna = df_notna.drop(['Cpu'], axis = 1)"
   ]
  },
  {
   "cell_type": "code",
   "execution_count": 94,
   "id": "2d6ef38f-467c-4126-8327-8a8fd2a53118",
   "metadata": {},
   "outputs": [
    {
     "data": {
      "text/plain": [
       "array(['8GB', '16GB', '4GB', '2GB', '12GB', '64GB', '6GB', '32GB', '24GB',\n",
       "       '1GB'], dtype=object)"
      ]
     },
     "execution_count": 94,
     "metadata": {},
     "output_type": "execute_result"
    }
   ],
   "source": [
    "df_notna.Ram.unique()"
   ]
  },
  {
   "cell_type": "code",
   "execution_count": 95,
   "id": "31d14b58-534a-4003-a532-3fac5a6e0825",
   "metadata": {},
   "outputs": [
    {
     "data": {
      "text/plain": [
       "array([ 8, 16,  4,  2, 12, 64,  6, 32, 24,  1])"
      ]
     },
     "execution_count": 95,
     "metadata": {},
     "output_type": "execute_result"
    }
   ],
   "source": [
    "# Remove the unit measure and convert to int\n",
    "df_notna['Ram'] = df_notna['Ram'].str.replace('GB', '').astype(int)\n",
    "df_notna.Ram.unique()"
   ]
  },
  {
   "cell_type": "code",
   "execution_count": 96,
   "id": "27f3aaed-a457-4273-ad80-b2786f739baf",
   "metadata": {},
   "outputs": [
    {
     "data": {
      "text/plain": [
       "array(['128GB SSD', '128GB Flash Storage', '256GB SSD', '512GB SSD',\n",
       "       '500GB HDD', '256GB Flash Storage', '1TB HDD',\n",
       "       '128GB SSD +  1TB HDD', '256GB SSD +  256GB SSD',\n",
       "       '64GB Flash Storage', '32GB Flash Storage', '256GB SSD +  1TB HDD',\n",
       "       '256GB SSD +  2TB HDD', '32GB SSD', '2TB HDD', '64GB SSD',\n",
       "       '1.0TB Hybrid', '512GB SSD +  1TB HDD', '1TB SSD',\n",
       "       '256GB SSD +  500GB HDD', '128GB SSD +  2TB HDD',\n",
       "       '512GB SSD +  512GB SSD', '16GB SSD', '16GB Flash Storage',\n",
       "       '512GB SSD +  256GB SSD', '512GB SSD +  2TB HDD',\n",
       "       '64GB Flash Storage +  1TB HDD', '180GB SSD', '1TB HDD +  1TB HDD',\n",
       "       '32GB HDD', '1TB SSD +  1TB HDD', '?', '512GB Flash Storage',\n",
       "       '128GB HDD', '240GB SSD', '8GB SSD', '508GB Hybrid', '1.0TB HDD',\n",
       "       '512GB SSD +  1.0TB Hybrid', '256GB SSD +  1.0TB Hybrid'],\n",
       "      dtype=object)"
      ]
     },
     "execution_count": 96,
     "metadata": {},
     "output_type": "execute_result"
    }
   ],
   "source": [
    "df_notna.Memory.unique()"
   ]
  },
  {
   "cell_type": "code",
   "execution_count": 97,
   "id": "4ede9c49-2ea3-4cda-86b3-fb0f59a8920d",
   "metadata": {},
   "outputs": [
    {
     "data": {
      "text/plain": [
       "Memory\n",
       "256GB SSD                        399\n",
       "1TB HDD                          216\n",
       "500GB HDD                        130\n",
       "512GB SSD                        116\n",
       "128GB SSD +  1TB HDD              92\n",
       "128GB SSD                         74\n",
       "256GB SSD +  1TB HDD              71\n",
       "32GB Flash Storage                36\n",
       "2TB HDD                           16\n",
       "64GB Flash Storage                14\n",
       "512GB SSD +  1TB HDD              14\n",
       "1TB SSD                           13\n",
       "256GB SSD +  2TB HDD              10\n",
       "1.0TB Hybrid                       9\n",
       "256GB Flash Storage                8\n",
       "16GB Flash Storage                 7\n",
       "32GB SSD                           6\n",
       "180GB SSD                          4\n",
       "128GB Flash Storage                4\n",
       "512GB SSD +  2TB HDD               3\n",
       "16GB SSD                           3\n",
       "512GB Flash Storage                2\n",
       "1TB SSD +  1TB HDD                 2\n",
       "128GB SSD +  2TB HDD               2\n",
       "256GB SSD +  500GB HDD             2\n",
       "256GB SSD +  256GB SSD             2\n",
       "512GB SSD +  256GB SSD             1\n",
       "512GB SSD +  512GB SSD             1\n",
       "64GB Flash Storage +  1TB HDD      1\n",
       "1TB HDD +  1TB HDD                 1\n",
       "32GB HDD                           1\n",
       "64GB SSD                           1\n",
       "?                                  1\n",
       "128GB HDD                          1\n",
       "240GB SSD                          1\n",
       "8GB SSD                            1\n",
       "508GB Hybrid                       1\n",
       "1.0TB HDD                          1\n",
       "512GB SSD +  1.0TB Hybrid          1\n",
       "256GB SSD +  1.0TB Hybrid          1\n",
       "Name: count, dtype: int64"
      ]
     },
     "execution_count": 97,
     "metadata": {},
     "output_type": "execute_result"
    }
   ],
   "source": [
    "# '?' tuples need to be addressed\n",
    "df_notna.Memory.value_counts()"
   ]
  },
  {
   "cell_type": "code",
   "execution_count": 98,
   "id": "bd5d4a23-c4a1-4036-acfd-35c7952cd47d",
   "metadata": {},
   "outputs": [],
   "source": [
    "# Since there is only one '?' record, it is dropped\n",
    "df_notna = df_notna[df_notna['Memory'] != '?']"
   ]
  },
  {
   "cell_type": "code",
   "execution_count": 99,
   "id": "1890fb0e-701c-4fba-ba7a-14124ce4588d",
   "metadata": {},
   "outputs": [],
   "source": [
    "# The Memory attribute is split in 2: HDD and SSD, initialized here\n",
    "df_notna['SSD'] = 0\n",
    "df_notna['HDD'] = 0\n",
    "\n",
    "# Populate new attributes\n",
    "for idx, row in df_notna.iterrows():\n",
    "    memory_info = row['Memory']\n",
    "    ssd_info = re.findall(r'(\\d+)\\s*(gb|tb)\\s*(SSD|flash storage)', memory_info, re.I)\n",
    "    hdd_info = re.findall(r'(\\d+)\\s*(gb|tb)\\s*(HDD|hybrid)', memory_info, re.I)\n",
    "    \n",
    "    ssd_memory = sum(int(info[0]) * 1024 if info[1].lower() == 'tb' else int(info[0]) for info in ssd_info) if ssd_info else 0\n",
    "    hdd_memory = sum(int(info[0]) * 1024 if info[1].lower() == 'tb' else int(info[0]) for info in hdd_info) if hdd_info else 0\n",
    "    \n",
    "    df_notna.at[idx, 'SSD'] = ssd_memory\n",
    "    df_notna.at[idx, 'HDD'] = hdd_memory"
   ]
  },
  {
   "cell_type": "code",
   "execution_count": 100,
   "id": "f5b50a9e-f3fd-466b-9107-b75192d38a85",
   "metadata": {},
   "outputs": [],
   "source": [
    "# Drop old Memory attribute\n",
    "df_notna = df_notna.drop(['Memory'], axis = 1)"
   ]
  },
  {
   "cell_type": "code",
   "execution_count": 101,
   "id": "cc90a2a8",
   "metadata": {},
   "outputs": [
    {
     "data": {
      "text/plain": [
       "array([ 128,  256,  512,    0,   64,   32, 1024,   16,  768,  180,  240,\n",
       "          8], dtype=int64)"
      ]
     },
     "execution_count": 101,
     "metadata": {},
     "output_type": "execute_result"
    }
   ],
   "source": [
    "df_notna['SSD'].unique()"
   ]
  },
  {
   "cell_type": "code",
   "execution_count": 102,
   "id": "12c3c764",
   "metadata": {},
   "outputs": [
    {
     "data": {
      "image/png": "[encoded data removed]",
      "text/plain": [
       "<Figure size 1000x500 with 1 Axes>"
      ]
     },
     "metadata": {},
     "output_type": "display_data"
    }
   ],
   "source": [
    "# Plotting the SSD feature frequencies\n",
    "ssd_freq = df_notna['SSD'].value_counts()\n",
    "\n",
    "# Calculate percentages\n",
    "percentages = ssd_freq.values / ssd_freq.values.sum() * 100\n",
    "\n",
    "# Create labels, but replace those under 4% with an empty string\n",
    "labels = [f'{i}' if perc >= 4 else '' for i, perc in zip(ssd_freq.index, percentages)]\n",
    "\n",
    "def custom_autopct(pct):\n",
    "    return ('%1.1f%%' % pct) if pct >= 4 else ''\n",
    "\n",
    "plt.figure(figsize=(10,5))\n",
    "plt.pie(ssd_freq.values, labels=labels, autopct=custom_autopct)\n",
    "plt.title('SSD Feature')\n",
    "\n",
    "plt.show()"
   ]
  },
  {
   "cell_type": "code",
   "execution_count": 103,
   "id": "5f41f000",
   "metadata": {},
   "outputs": [
    {
     "data": {
      "text/plain": [
       "(1268, 14)"
      ]
     },
     "execution_count": 103,
     "metadata": {},
     "output_type": "execute_result"
    }
   ],
   "source": [
    "df_notna.shape"
   ]
  },
  {
   "cell_type": "code",
   "execution_count": 104,
   "id": "6201e7c6",
   "metadata": {},
   "outputs": [
    {
     "data": {
      "text/plain": [
       "array([   0,  500, 1024, 2048,   32,  128,  508], dtype=int64)"
      ]
     },
     "execution_count": 104,
     "metadata": {},
     "output_type": "execute_result"
    }
   ],
   "source": [
    "df_notna['HDD'].unique()"
   ]
  },
  {
   "cell_type": "code",
   "execution_count": 105,
   "id": "73d37970",
   "metadata": {},
   "outputs": [
    {
     "data": {
      "image/png": "[encoded data removed]",
      "text/plain": [
       "<Figure size 1000x500 with 1 Axes>"
      ]
     },
     "metadata": {},
     "output_type": "display_data"
    }
   ],
   "source": [
    "# Plotting the SSD feature frequencies\n",
    "hdd_freq = df_notna['HDD'].value_counts()\n",
    "\n",
    "# Calculate percentages\n",
    "percentages = hdd_freq.values / hdd_freq.values.sum() * 100\n",
    "\n",
    "# Create labels, but replace those under 4% with an empty string\n",
    "labels = [f'{i}' if perc >= 4 else '' for i, perc in zip(ssd_freq.index, percentages)]\n",
    "\n",
    "plt.figure(figsize=(10,5))\n",
    "plt.pie(hdd_freq.values, labels=labels, autopct=custom_autopct)\n",
    "plt.title('HDD Feature')\n",
    "\n",
    "plt.show()"
   ]
  },
  {
   "cell_type": "code",
   "execution_count": 106,
   "id": "55b6334d-72d4-4948-90ae-9ef01236e7c3",
   "metadata": {},
   "outputs": [
    {
     "data": {
      "text/plain": [
       "array(['Intel Iris Plus Graphics 640', 'Intel HD Graphics 6000',\n",
       "       'Intel HD Graphics 620', 'AMD Radeon Pro 455',\n",
       "       'Intel Iris Plus Graphics 650', 'AMD Radeon R5',\n",
       "       'Intel Iris Pro Graphics', 'Nvidia GeForce MX150',\n",
       "       'Intel UHD Graphics 620', 'Intel HD Graphics 520',\n",
       "       'AMD Radeon Pro 555', 'AMD Radeon R5 M430',\n",
       "       'Intel HD Graphics 615', 'AMD Radeon Pro 560',\n",
       "       'Nvidia GeForce 940MX', 'Nvidia GeForce GTX 1050', 'AMD Radeon R2',\n",
       "       'AMD Radeon 530', 'Nvidia GeForce 930MX', 'Intel HD Graphics',\n",
       "       'Intel HD Graphics 500', 'Nvidia GeForce 930MX ',\n",
       "       'Nvidia GeForce GTX 1060', 'Nvidia GeForce 150MX',\n",
       "       'Intel Iris Graphics 540', 'AMD Radeon RX 580',\n",
       "       'Nvidia GeForce 920MX', 'AMD Radeon R4 Graphics', 'AMD Radeon 520',\n",
       "       'Nvidia GeForce GTX 1070', 'Nvidia GeForce GTX 1050 Ti',\n",
       "       'Intel HD Graphics 400', 'Nvidia GeForce MX130', 'AMD R4 Graphics',\n",
       "       'Nvidia GeForce GTX 940MX', 'AMD Radeon RX 560',\n",
       "       'Nvidia GeForce 920M', 'AMD Radeon R7 M445', 'AMD Radeon RX 550',\n",
       "       'Nvidia GeForce GTX 1050M', 'Intel HD Graphics 515',\n",
       "       'AMD Radeon R5 M420', 'Intel HD Graphics 505',\n",
       "       'Nvidia GTX 980 SLI', 'AMD R17M-M1-70', 'Nvidia GeForce GTX 1080',\n",
       "       'Nvidia Quadro M1200', 'Nvidia GeForce 920MX ',\n",
       "       'Nvidia GeForce GTX 950M', 'AMD FirePro W4190M ',\n",
       "       'Nvidia GeForce GTX 980M', 'Intel Iris Graphics 550',\n",
       "       'Nvidia GeForce 930M', 'Intel HD Graphics 630',\n",
       "       'AMD Radeon R5 430', 'Nvidia GeForce GTX 940M',\n",
       "       'Intel HD Graphics 510', 'Intel HD Graphics 405',\n",
       "       'AMD Radeon RX 540', 'Nvidia GeForce GT 940MX',\n",
       "       'AMD FirePro W5130M', 'Nvidia Quadro M2200M', 'AMD Radeon R4',\n",
       "       'Nvidia Quadro M620', 'AMD Radeon R7 M460',\n",
       "       'Intel HD Graphics 530', 'Nvidia GeForce GTX 965M',\n",
       "       'Nvidia GeForce GTX1080', 'Nvidia GeForce GTX1050 Ti',\n",
       "       'Nvidia GeForce GTX 960M', 'AMD Radeon R2 Graphics',\n",
       "       'Nvidia Quadro M620M', 'Nvidia GeForce GTX 970M',\n",
       "       'Nvidia GeForce GTX 960<U+039C>', 'Intel Graphics 620',\n",
       "       'Nvidia GeForce GTX 960', 'AMD Radeon R5 520',\n",
       "       'AMD Radeon R7 M440', 'AMD Radeon R7', 'Nvidia Quadro M520M',\n",
       "       'Nvidia Quadro M2200', 'Nvidia Quadro M2000M',\n",
       "       'Intel HD Graphics 540', 'Nvidia Quadro M1000M', 'AMD Radeon 540',\n",
       "       'Nvidia GeForce GTX 1070M', 'Nvidia GeForce GTX1060',\n",
       "       'Intel HD Graphics 5300', 'AMD Radeon R5 M420X',\n",
       "       'AMD Radeon R7 Graphics', 'Nvidia GeForce 920',\n",
       "       'Nvidia GeForce 940M', 'Nvidia GeForce GTX 930MX',\n",
       "       'AMD Radeon R7 M465', 'AMD Radeon R3', 'Nvidia GeForce GTX 1050Ti',\n",
       "       'AMD Radeon R7 M365X', 'AMD Radeon R9 M385',\n",
       "       'Intel HD Graphics 620 ', 'Nvidia Quadro 3000M',\n",
       "       'Nvidia GeForce GTX 980 ', 'AMD Radeon R5 M330',\n",
       "       'AMD FirePro W4190M', 'AMD FirePro W6150M', 'AMD Radeon R5 M315',\n",
       "       'Nvidia Quadro M500M', 'AMD Radeon R7 M360',\n",
       "       'Nvidia Quadro M3000M', 'Nvidia GeForce 960M'], dtype=object)"
      ]
     },
     "execution_count": 106,
     "metadata": {},
     "output_type": "execute_result"
    }
   ],
   "source": [
    "df_notna.Gpu.unique()"
   ]
  },
  {
   "cell_type": "code",
   "execution_count": 107,
   "id": "52993969-b279-4141-828b-c4e473ba0068",
   "metadata": {},
   "outputs": [],
   "source": [
    "# Extract information about producer, model, series and make new attributes\n",
    "def extract_gpu_info(gpu):\n",
    "    words = gpu.split()\n",
    "    producer = words[0]\n",
    "    model = ' '.join(words[1:]) if len(words) > 1 else None\n",
    "    return producer, model\n",
    "\n",
    "df_notna[['GpuProducer', 'GpuModel']] = df_notna['Gpu'].apply(lambda x: pd.Series(extract_gpu_info(x)))"
   ]
  },
  {
   "cell_type": "code",
   "execution_count": 108,
   "id": "227eea2d",
   "metadata": {},
   "outputs": [
    {
     "data": {
      "image/png": "[encoded data removed]",
      "text/plain": [
       "<Figure size 1000x500 with 1 Axes>"
      ]
     },
     "metadata": {},
     "output_type": "display_data"
    }
   ],
   "source": [
    "# Plotting the GpuProducer feature frequencies\n",
    "gpu_producer_freq = df_notna['GpuProducer'].value_counts()\n",
    "\n",
    "plt.figure(figsize=(10,5))\n",
    "bars = plt.bar(gpu_producer_freq.index, gpu_producer_freq.values, color=['y', 'b', 'r'], width = 0.4)\n",
    "plt.title('GpuProducer Feature')\n",
    "plt.ylabel('Number of Records')\n",
    "\n",
    "# Adding the values on top of each bar\n",
    "for bar in bars:\n",
    "    yval = bar.get_height()\n",
    "    plt.text(bar.get_x() + bar.get_width()/2, yval + 0.05, yval, ha='center', va='bottom')\n",
    "    \n",
    "plt.show()"
   ]
  },
  {
   "cell_type": "code",
   "execution_count": 109,
   "id": "b2f415c4-3e79-4c56-acee-3192b2c4d480",
   "metadata": {},
   "outputs": [],
   "source": [
    "# Drop Gpu attribute after extracting information from it\n",
    "df_notna = df_notna.drop(['Gpu'], axis = 1)"
   ]
  },
  {
   "cell_type": "code",
   "execution_count": 110,
   "id": "60be328a-0a74-4185-8125-3a4938fb524e",
   "metadata": {},
   "outputs": [
    {
     "data": {
      "text/plain": [
       "GpuModel\n",
       "HD Graphics 620            272\n",
       "HD Graphics 520            181\n",
       "UHD Graphics 620            65\n",
       "GeForce GTX 1050            64\n",
       "GeForce GTX 1060            48\n",
       "GeForce 940MX               42\n",
       "HD Graphics 500             39\n",
       "Radeon 530                  38\n",
       "HD Graphics 400             34\n",
       "GeForce GTX 1070            29\n",
       "HD Graphics                 29\n",
       "GeForce GTX 1050 Ti         27\n",
       "GeForce 930MX               25\n",
       "Radeon R5 M430              22\n",
       "GeForce 920MX               17\n",
       "Radeon 520                  16\n",
       "HD Graphics 515             15\n",
       "GeForce MX150               15\n",
       "HD Graphics 615             14\n",
       "GeForce GTX 960M            14\n",
       "Radeon R7 M445              13\n",
       "HD Graphics 505             12\n",
       "Radeon R5                   11\n",
       "GeForce GTX 980M            10\n",
       "HD Graphics 405              9\n",
       "Quadro M1200                 8\n",
       "Iris Plus Graphics 640       8\n",
       "Radeon R5 M420               7\n",
       "Radeon R5 M330               7\n",
       "GeForce GTX 950M             7\n",
       "GeForce GTX 1080             6\n",
       "GeForce MX130                6\n",
       "GeForce 920M                 6\n",
       "GeForce GT 940MX             5\n",
       "Radeon RX 580                5\n",
       "GeForce GTX 970M             5\n",
       "HD Graphics 6000             5\n",
       "GeForce 930M                 5\n",
       "Radeon R7 M440               5\n",
       "Radeon R4 Graphics           5\n",
       "Quadro M620                  5\n",
       "Radeon R2                    5\n",
       "GeForce GTX 965M             4\n",
       "Quadro M1000M                4\n",
       "Radeon R2 Graphics           4\n",
       "HD Graphics 510              4\n",
       "GeForce GTX 940MX            4\n",
       "HD Graphics 630              4\n",
       "Radeon RX 550                4\n",
       "FirePro W4190M               3\n",
       "GeForce GTX 1050M            3\n",
       "GeForce 150MX                3\n",
       "Radeon R5 M420X              3\n",
       "Quadro M2200M                3\n",
       "Radeon R4                    3\n",
       "GeForce GTX 960              2\n",
       "GeForce GTX 960<U+039C>      2\n",
       "Quadro M2200                 2\n",
       "HD Graphics 5300             2\n",
       "Radeon R7 M460               2\n",
       "Quadro M520M                 2\n",
       "Quadro M2000M                2\n",
       "Iris Plus Graphics 650       2\n",
       "Iris Graphics 540            2\n",
       "Radeon RX 540                2\n",
       "GeForce GTX 1050Ti           2\n",
       "Radeon R3                    1\n",
       "Radeon R7 Graphics           1\n",
       "FirePro W6150M               1\n",
       "Radeon R5 M315               1\n",
       "GeForce GTX 1070M            1\n",
       "GeForce GTX 980              1\n",
       "Quadro 3000M                 1\n",
       "Quadro M500M                 1\n",
       "Radeon R7 M360               1\n",
       "GeForce 920                  1\n",
       "Radeon R9 M385               1\n",
       "Radeon R7 M365X              1\n",
       "GeForce 940M                 1\n",
       "Quadro M3000M                1\n",
       "GeForce GTX 930MX            1\n",
       "Radeon R7 M465               1\n",
       "GeForce GTX1060              1\n",
       "Radeon R5 430                1\n",
       "Radeon 540                   1\n",
       "Iris Graphics 550            1\n",
       "Radeon Pro 455               1\n",
       "Iris Pro Graphics            1\n",
       "Radeon Pro 555               1\n",
       "Radeon Pro 560               1\n",
       "R4 Graphics                  1\n",
       "Radeon RX 560                1\n",
       "GTX 980 SLI                  1\n",
       "R17M-M1-70                   1\n",
       "GeForce GTX 940M             1\n",
       "HD Graphics 540              1\n",
       "FirePro W5130M               1\n",
       "HD Graphics 530              1\n",
       "GeForce GTX1080              1\n",
       "GeForce GTX1050 Ti           1\n",
       "Quadro M620M                 1\n",
       "Graphics 620                 1\n",
       "Radeon R5 520                1\n",
       "Radeon R7                    1\n",
       "GeForce 960M                 1\n",
       "Name: count, dtype: int64"
      ]
     },
     "execution_count": 110,
     "metadata": {},
     "output_type": "execute_result"
    }
   ],
   "source": [
    "pd.set_option('display.max_rows', 1000)\n",
    "df_notna.GpuModel.value_counts()"
   ]
  },
  {
   "cell_type": "code",
   "execution_count": 111,
   "id": "0fd28d3b-e060-4c49-8a48-5fbee5180702",
   "metadata": {},
   "outputs": [],
   "source": [
    "# Define a function to solve some inconsistencies\n",
    "def replace_value(df, column, old_value, new_value):\n",
    "    df[column] = df[column].replace(old_value, new_value)\n",
    "    return df"
   ]
  },
  {
   "cell_type": "code",
   "execution_count": 112,
   "id": "51ca3549-9740-4045-9b5d-1f56213fcd61",
   "metadata": {},
   "outputs": [],
   "source": [
    "# Solve inconsistencies\n",
    "df_notna = replace_value(df_notna, 'GpuModel', 'GeForce GTX 960<U+039C>', 'GeForce GTX 960')\n",
    "df_notna = replace_value(df_notna, 'GpuModel', 'Radeon R2', 'Radeon R2 Graphics')\n",
    "df_notna = replace_value(df_notna, 'GpuModel', 'Radeon R4', 'Radeon R4 Graphics')\n",
    "df_notna = replace_value(df_notna, 'GpuModel', 'R4 Graphics', 'Radeon R4 Graphics')\n",
    "df_notna = replace_value(df_notna, 'GpuModel', 'Radeon R7', 'Radeon R7 Graphics')\n",
    "df_notna = replace_value(df_notna, 'GpuModel', 'Radeon R4', 'Radeon R4 Graphics')\n",
    "df_notna = replace_value(df_notna, 'GpuModel', 'Radeon R5', 'Radeon R5 Graphics')\n",
    "df_notna = replace_value(df_notna, 'GpuModel', 'Radeon R4', 'Radeon R4 Graphics')"
   ]
  },
  {
   "cell_type": "code",
   "execution_count": 113,
   "id": "b70e90df-7d39-4196-936c-480ce7772703",
   "metadata": {},
   "outputs": [
    {
     "data": {
      "text/plain": [
       "array(['Iris Plus Graphics 640', 'HD Graphics 6000', 'HD Graphics 620',\n",
       "       'Radeon Pro 455', 'Iris Plus Graphics 650', 'Radeon R5 Graphics',\n",
       "       'Iris Pro Graphics', 'GeForce MX150', 'UHD Graphics 620',\n",
       "       'HD Graphics 520', 'Radeon Pro 555', 'Radeon R5 M430',\n",
       "       'HD Graphics 615', 'Radeon Pro 560', 'GeForce 940MX',\n",
       "       'GeForce GTX 1050', 'Radeon R2 Graphics', 'Radeon 530',\n",
       "       'GeForce 930MX', 'HD Graphics', 'HD Graphics 500',\n",
       "       'GeForce GTX 1060', 'GeForce 150MX', 'Iris Graphics 540',\n",
       "       'Radeon RX 580', 'GeForce 920MX', 'Radeon R4 Graphics',\n",
       "       'Radeon 520', 'GeForce GTX 1070', 'GeForce GTX 1050 Ti',\n",
       "       'HD Graphics 400', 'GeForce MX130', 'GeForce GTX 940MX',\n",
       "       'Radeon RX 560', 'GeForce 920M', 'Radeon R7 M445', 'Radeon RX 550',\n",
       "       'GeForce GTX 1050M', 'HD Graphics 515', 'Radeon R5 M420',\n",
       "       'HD Graphics 505', 'GTX 980 SLI', 'R17M-M1-70', 'GeForce GTX 1080',\n",
       "       'Quadro M1200', 'GeForce GTX 950M', 'FirePro W4190M',\n",
       "       'GeForce GTX 980M', 'Iris Graphics 550', 'GeForce 930M',\n",
       "       'HD Graphics 630', 'Radeon R5 430', 'GeForce GTX 940M',\n",
       "       'HD Graphics 510', 'HD Graphics 405', 'Radeon RX 540',\n",
       "       'GeForce GT 940MX', 'FirePro W5130M', 'Quadro M2200M',\n",
       "       'Quadro M620', 'Radeon R7 M460', 'HD Graphics 530',\n",
       "       'GeForce GTX 965M', 'GeForce GTX1080', 'GeForce GTX1050 Ti',\n",
       "       'GeForce GTX 960M', 'Quadro M620M', 'GeForce GTX 970M',\n",
       "       'GeForce GTX 960', 'Graphics 620', 'Radeon R5 520',\n",
       "       'Radeon R7 M440', 'Radeon R7 Graphics', 'Quadro M520M',\n",
       "       'Quadro M2200', 'Quadro M2000M', 'HD Graphics 540',\n",
       "       'Quadro M1000M', 'Radeon 540', 'GeForce GTX 1070M',\n",
       "       'GeForce GTX1060', 'HD Graphics 5300', 'Radeon R5 M420X',\n",
       "       'GeForce 920', 'GeForce 940M', 'GeForce GTX 930MX',\n",
       "       'Radeon R7 M465', 'Radeon R3', 'GeForce GTX 1050Ti',\n",
       "       'Radeon R7 M365X', 'Radeon R9 M385', 'Quadro 3000M',\n",
       "       'GeForce GTX 980', 'Radeon R5 M330', 'FirePro W6150M',\n",
       "       'Radeon R5 M315', 'Quadro M500M', 'Radeon R7 M360',\n",
       "       'Quadro M3000M', 'GeForce 960M'], dtype=object)"
      ]
     },
     "execution_count": 113,
     "metadata": {},
     "output_type": "execute_result"
    }
   ],
   "source": [
    "df_notna.GpuModel.unique()"
   ]
  },
  {
   "cell_type": "code",
   "execution_count": 119,
   "id": "e442c632",
   "metadata": {},
   "outputs": [
    {
     "data": {
      "image/png": "[encoded data removed]",
      "text/plain": [
       "<Figure size 1000x500 with 1 Axes>"
      ]
     },
     "metadata": {},
     "output_type": "display_data"
    }
   ],
   "source": [
    "# Plotting the GpuModel feature frequencies\n",
    "cpu_model_freq = df_notna['GpuModel'].value_counts()\n",
    "\n",
    "plt.figure(figsize=(10,5))\n",
    "bars = plt.bar(cpu_model_freq.index, cpu_model_freq.values, color=['b'], width = 0.4)\n",
    "plt.title('GpuModel Feature')\n",
    "plt.ylabel('Number of Records')\n",
    "plt.xticks(rotation='vertical', fontsize = 8)\n",
    "plt.show()"
   ]
  },
  {
   "cell_type": "code",
   "execution_count": 56,
   "id": "3c5c7859-6d92-43ac-b0d8-9a40ddf449d6",
   "metadata": {},
   "outputs": [],
   "source": [
    "# Calculate mean encoding on this new DataFrame\n",
    "mean_encode = df_notna.groupby('GpuModel')['Price'].mean().round(2)  \n",
    "\n",
    "# Apply mean encoding to 'GpuModel' and rank the results obtained to avoid leakage\n",
    "df_notna.loc[:, 'GpuModel'] = df_notna['GpuModel'].map(mean_encode)\n",
    "sorted_gpu_models = sorted(df_notna['GpuModel'].unique())\n",
    "gpu_model_ranks = {model: rank for rank, model in enumerate(sorted_gpu_models, 1)}\n",
    "df_notna.loc[:, 'GpuModel'] = df_notna['GpuModel'].map(gpu_model_ranks)"
   ]
  },
  {
   "cell_type": "code",
   "execution_count": 238,
   "id": "f3e63ba6-e92e-4022-9eed-313148f2ff54",
   "metadata": {},
   "outputs": [
    {
     "data": {
      "text/plain": [
       "OpSys\n",
       "Windows 10      1043\n",
       "No OS             63\n",
       "Linux             61\n",
       "Windows 7         45\n",
       "Chrome OS         26\n",
       "macOS             13\n",
       "Mac OS X           8\n",
       "Windows 10 S       8\n",
       "Android            1\n",
       "Name: count, dtype: int64"
      ]
     },
     "execution_count": 238,
     "metadata": {},
     "output_type": "execute_result"
    }
   ],
   "source": [
    "df_notna.OpSys.value_counts()"
   ]
  },
  {
   "cell_type": "code",
   "execution_count": 239,
   "id": "0bcec727-b5e8-4d1b-93f7-d4094179f77b",
   "metadata": {},
   "outputs": [],
   "source": [
    "# The last 3 are rare, so they are merged with those of their kind\n",
    "df_notna.loc[df_notna['OpSys'] == 'Mac OS X', 'OpSys'] = 'macOS'\n",
    "df_notna.loc[df_notna['OpSys'] == 'Windows 10 S', 'OpSys'] = 'Windows 10'\n",
    "df_notna.loc[df_notna['OpSys'] == 'Android', 'OpSys'] = 'Chrome OS'"
   ]
  },
  {
   "cell_type": "code",
   "execution_count": 240,
   "id": "b5105c52",
   "metadata": {},
   "outputs": [
    {
     "data": {
      "image/png": "[encoded data removed]",
      "text/plain": [
       "<Figure size 1000x500 with 1 Axes>"
      ]
     },
     "metadata": {},
     "output_type": "display_data"
    }
   ],
   "source": [
    "# Plotting the OpSys feature frequencies\n",
    "opsys_freq = df_notna['OpSys'].value_counts()\n",
    "\n",
    "plt.figure(figsize=(10,5))\n",
    "bars = plt.bar(opsys_freq.index, opsys_freq.values, color=['y', 'b', 'r'], width = 0.4)\n",
    "plt.title('OpSys Feature')\n",
    "plt.ylabel('Number of Records')\n",
    "\n",
    "# Adding the values on top of each bar\n",
    "for bar in bars:\n",
    "    yval = bar.get_height()\n",
    "    plt.text(bar.get_x() + bar.get_width()/2, yval + 0.05, yval, ha='center', va='bottom')\n",
    "    \n",
    "plt.show()"
   ]
  },
  {
   "cell_type": "code",
   "execution_count": 241,
   "id": "037396d0-46bf-44d1-8704-ba002bbd6e37",
   "metadata": {},
   "outputs": [],
   "source": [
    "# Convert the currency from indian to dollars and truncate to second decimal\n",
    "exchange_rate = 0.012\n",
    "df_notna['Price'] = (df_notna['Price'] * exchange_rate).round(2)"
   ]
  },
  {
   "cell_type": "code",
   "execution_count": 242,
   "id": "c923edec-471a-4e7e-a6cf-23731f8f5655",
   "metadata": {},
   "outputs": [
    {
     "name": "stdout",
     "output_type": "stream",
     "text": [
      "Minimum: 111.25, Maximum: 3899.46\n"
     ]
    }
   ],
   "source": [
    "# Extract min and max prices\n",
    "min_value = df_notna['Price'].min()\n",
    "max_value = df_notna['Price'].max()\n",
    "\n",
    "print(f\"Minimum: {min_value}, Maximum: {max_value}\")"
   ]
  },
  {
   "cell_type": "code",
   "execution_count": 243,
   "id": "42ee9366",
   "metadata": {},
   "outputs": [
    {
     "data": {
      "text/html": [
       "<div>\n",
       "<style scoped>\n",
       "    .dataframe tbody tr th:only-of-type {\n",
       "        vertical-align: middle;\n",
       "    }\n",
       "\n",
       "    .dataframe tbody tr th {\n",
       "        vertical-align: top;\n",
       "    }\n",
       "\n",
       "    .dataframe thead th {\n",
       "        text-align: right;\n",
       "    }\n",
       "</style>\n",
       "<table border=\"1\" class=\"dataframe\">\n",
       "  <thead>\n",
       "    <tr style=\"text-align: right;\">\n",
       "      <th></th>\n",
       "      <th>Company</th>\n",
       "      <th>TypeName</th>\n",
       "      <th>Inches</th>\n",
       "      <th>ScreenResolution</th>\n",
       "      <th>Ram</th>\n",
       "      <th>OpSys</th>\n",
       "      <th>Weight</th>\n",
       "      <th>Price</th>\n",
       "      <th>CpuProducer</th>\n",
       "      <th>CpuModel</th>\n",
       "      <th>CpuClockSpeed</th>\n",
       "      <th>SSD</th>\n",
       "      <th>HDD</th>\n",
       "      <th>GpuProducer</th>\n",
       "      <th>GpuModel</th>\n",
       "    </tr>\n",
       "  </thead>\n",
       "  <tbody>\n",
       "    <tr>\n",
       "      <th>0</th>\n",
       "      <td>Apple</td>\n",
       "      <td>Ultrabook</td>\n",
       "      <td>13.3</td>\n",
       "      <td>4096000</td>\n",
       "      <td>8</td>\n",
       "      <td>macOS</td>\n",
       "      <td>1.37</td>\n",
       "      <td>856.54</td>\n",
       "      <td>Intel</td>\n",
       "      <td>Core i5</td>\n",
       "      <td>2.3</td>\n",
       "      <td>128</td>\n",
       "      <td>0</td>\n",
       "      <td>Intel</td>\n",
       "      <td>69</td>\n",
       "    </tr>\n",
       "    <tr>\n",
       "      <th>1</th>\n",
       "      <td>Apple</td>\n",
       "      <td>Ultrabook</td>\n",
       "      <td>13.3</td>\n",
       "      <td>1296000</td>\n",
       "      <td>8</td>\n",
       "      <td>macOS</td>\n",
       "      <td>1.34</td>\n",
       "      <td>574.75</td>\n",
       "      <td>Intel</td>\n",
       "      <td>Core i5</td>\n",
       "      <td>1.8</td>\n",
       "      <td>128</td>\n",
       "      <td>0</td>\n",
       "      <td>Intel</td>\n",
       "      <td>37</td>\n",
       "    </tr>\n",
       "    <tr>\n",
       "      <th>2</th>\n",
       "      <td>HP</td>\n",
       "      <td>Notebook</td>\n",
       "      <td>15.6</td>\n",
       "      <td>2073600</td>\n",
       "      <td>8</td>\n",
       "      <td>No OS</td>\n",
       "      <td>1.86</td>\n",
       "      <td>367.63</td>\n",
       "      <td>Intel</td>\n",
       "      <td>Core i5</td>\n",
       "      <td>2.5</td>\n",
       "      <td>256</td>\n",
       "      <td>0</td>\n",
       "      <td>Intel</td>\n",
       "      <td>44</td>\n",
       "    </tr>\n",
       "    <tr>\n",
       "      <th>3</th>\n",
       "      <td>Apple</td>\n",
       "      <td>Ultrabook</td>\n",
       "      <td>15.4</td>\n",
       "      <td>5184000</td>\n",
       "      <td>16</td>\n",
       "      <td>macOS</td>\n",
       "      <td>1.83</td>\n",
       "      <td>1622.34</td>\n",
       "      <td>Intel</td>\n",
       "      <td>Core i7</td>\n",
       "      <td>2.7</td>\n",
       "      <td>512</td>\n",
       "      <td>0</td>\n",
       "      <td>AMD</td>\n",
       "      <td>84</td>\n",
       "    </tr>\n",
       "    <tr>\n",
       "      <th>4</th>\n",
       "      <td>Apple</td>\n",
       "      <td>Ultrabook</td>\n",
       "      <td>13.3</td>\n",
       "      <td>4096000</td>\n",
       "      <td>8</td>\n",
       "      <td>macOS</td>\n",
       "      <td>1.37</td>\n",
       "      <td>1153.15</td>\n",
       "      <td>Intel</td>\n",
       "      <td>Core i5</td>\n",
       "      <td>3.1</td>\n",
       "      <td>256</td>\n",
       "      <td>0</td>\n",
       "      <td>Intel</td>\n",
       "      <td>73</td>\n",
       "    </tr>\n",
       "    <tr>\n",
       "      <th>...</th>\n",
       "      <td>...</td>\n",
       "      <td>...</td>\n",
       "      <td>...</td>\n",
       "      <td>...</td>\n",
       "      <td>...</td>\n",
       "      <td>...</td>\n",
       "      <td>...</td>\n",
       "      <td>...</td>\n",
       "      <td>...</td>\n",
       "      <td>...</td>\n",
       "      <td>...</td>\n",
       "      <td>...</td>\n",
       "      <td>...</td>\n",
       "      <td>...</td>\n",
       "      <td>...</td>\n",
       "    </tr>\n",
       "    <tr>\n",
       "      <th>1298</th>\n",
       "      <td>Lenovo</td>\n",
       "      <td>2 in 1 Convertible</td>\n",
       "      <td>14</td>\n",
       "      <td>2073600</td>\n",
       "      <td>4</td>\n",
       "      <td>Windows 10</td>\n",
       "      <td>1.80</td>\n",
       "      <td>407.91</td>\n",
       "      <td>Intel</td>\n",
       "      <td>Core i7</td>\n",
       "      <td>2.5</td>\n",
       "      <td>128</td>\n",
       "      <td>0</td>\n",
       "      <td>Intel</td>\n",
       "      <td>40</td>\n",
       "    </tr>\n",
       "    <tr>\n",
       "      <th>1299</th>\n",
       "      <td>Lenovo</td>\n",
       "      <td>2 in 1 Convertible</td>\n",
       "      <td>13.3</td>\n",
       "      <td>5760000</td>\n",
       "      <td>16</td>\n",
       "      <td>Windows 10</td>\n",
       "      <td>1.30</td>\n",
       "      <td>958.40</td>\n",
       "      <td>Intel</td>\n",
       "      <td>Core i7</td>\n",
       "      <td>2.5</td>\n",
       "      <td>512</td>\n",
       "      <td>0</td>\n",
       "      <td>Intel</td>\n",
       "      <td>40</td>\n",
       "    </tr>\n",
       "    <tr>\n",
       "      <th>1300</th>\n",
       "      <td>Lenovo</td>\n",
       "      <td>Notebook</td>\n",
       "      <td>14</td>\n",
       "      <td>1049088</td>\n",
       "      <td>2</td>\n",
       "      <td>Windows 10</td>\n",
       "      <td>1.50</td>\n",
       "      <td>146.41</td>\n",
       "      <td>Intel</td>\n",
       "      <td>Celeron Dual Core</td>\n",
       "      <td>1.6</td>\n",
       "      <td>64</td>\n",
       "      <td>0</td>\n",
       "      <td>Intel</td>\n",
       "      <td>6</td>\n",
       "    </tr>\n",
       "    <tr>\n",
       "      <th>1301</th>\n",
       "      <td>HP</td>\n",
       "      <td>Notebook</td>\n",
       "      <td>15.6</td>\n",
       "      <td>1049088</td>\n",
       "      <td>6</td>\n",
       "      <td>Windows 10</td>\n",
       "      <td>2.19</td>\n",
       "      <td>488.47</td>\n",
       "      <td>Intel</td>\n",
       "      <td>Core i7</td>\n",
       "      <td>2.5</td>\n",
       "      <td>0</td>\n",
       "      <td>1024</td>\n",
       "      <td>AMD</td>\n",
       "      <td>25</td>\n",
       "    </tr>\n",
       "    <tr>\n",
       "      <th>1302</th>\n",
       "      <td>Asus</td>\n",
       "      <td>Notebook</td>\n",
       "      <td>15.6</td>\n",
       "      <td>1049088</td>\n",
       "      <td>4</td>\n",
       "      <td>Windows 10</td>\n",
       "      <td>2.20</td>\n",
       "      <td>235.92</td>\n",
       "      <td>Intel</td>\n",
       "      <td>Celeron Dual Core</td>\n",
       "      <td>1.6</td>\n",
       "      <td>0</td>\n",
       "      <td>500</td>\n",
       "      <td>Intel</td>\n",
       "      <td>6</td>\n",
       "    </tr>\n",
       "  </tbody>\n",
       "</table>\n",
       "<p>1268 rows × 15 columns</p>\n",
       "</div>"
      ],
      "text/plain": [
       "     Company            TypeName Inches ScreenResolution  Ram       OpSys  \\\n",
       "0      Apple           Ultrabook   13.3          4096000    8       macOS   \n",
       "1      Apple           Ultrabook   13.3          1296000    8       macOS   \n",
       "2         HP            Notebook   15.6          2073600    8       No OS   \n",
       "3      Apple           Ultrabook   15.4          5184000   16       macOS   \n",
       "4      Apple           Ultrabook   13.3          4096000    8       macOS   \n",
       "...      ...                 ...    ...              ...  ...         ...   \n",
       "1298  Lenovo  2 in 1 Convertible     14          2073600    4  Windows 10   \n",
       "1299  Lenovo  2 in 1 Convertible   13.3          5760000   16  Windows 10   \n",
       "1300  Lenovo            Notebook     14          1049088    2  Windows 10   \n",
       "1301      HP            Notebook   15.6          1049088    6  Windows 10   \n",
       "1302    Asus            Notebook   15.6          1049088    4  Windows 10   \n",
       "\n",
       "      Weight    Price CpuProducer           CpuModel  CpuClockSpeed  SSD  \\\n",
       "0       1.37   856.54       Intel            Core i5            2.3  128   \n",
       "1       1.34   574.75       Intel            Core i5            1.8  128   \n",
       "2       1.86   367.63       Intel            Core i5            2.5  256   \n",
       "3       1.83  1622.34       Intel            Core i7            2.7  512   \n",
       "4       1.37  1153.15       Intel            Core i5            3.1  256   \n",
       "...      ...      ...         ...                ...            ...  ...   \n",
       "1298    1.80   407.91       Intel            Core i7            2.5  128   \n",
       "1299    1.30   958.40       Intel            Core i7            2.5  512   \n",
       "1300    1.50   146.41       Intel  Celeron Dual Core            1.6   64   \n",
       "1301    2.19   488.47       Intel            Core i7            2.5    0   \n",
       "1302    2.20   235.92       Intel  Celeron Dual Core            1.6    0   \n",
       "\n",
       "       HDD GpuProducer GpuModel  \n",
       "0        0       Intel       69  \n",
       "1        0       Intel       37  \n",
       "2        0       Intel       44  \n",
       "3        0         AMD       84  \n",
       "4        0       Intel       73  \n",
       "...    ...         ...      ...  \n",
       "1298     0       Intel       40  \n",
       "1299     0       Intel       40  \n",
       "1300     0       Intel        6  \n",
       "1301  1024         AMD       25  \n",
       "1302   500       Intel        6  \n",
       "\n",
       "[1268 rows x 15 columns]"
      ]
     },
     "execution_count": 243,
     "metadata": {},
     "output_type": "execute_result"
    }
   ],
   "source": [
    "df_notna"
   ]
  },
  {
   "cell_type": "code",
   "execution_count": 244,
   "id": "f279c0ea-5a4b-4e5e-8aaf-4e4074ce3cbe",
   "metadata": {},
   "outputs": [],
   "source": [
    "# One-hot Encode categorical attributes with no order issues\n",
    "df_notna = pd.get_dummies(df_notna, columns=['Company', 'TypeName', 'OpSys', 'CpuProducer', 'GpuProducer'])"
   ]
  },
  {
   "cell_type": "code",
   "execution_count": 245,
   "id": "1f076f97-f488-436b-b831-a14db1c3a0a9",
   "metadata": {},
   "outputs": [],
   "source": [
    "# Convert boolean columns to binary\n",
    "df_notna = df_notna.map(lambda x: int(x) if type(x) == bool else x)"
   ]
  },
  {
   "cell_type": "code",
   "execution_count": 246,
   "id": "dc6b8b4c-036a-479f-9fb0-586e50b76c36",
   "metadata": {},
   "outputs": [
    {
     "data": {
      "text/html": [
       "<div>\n",
       "<style scoped>\n",
       "    .dataframe tbody tr th:only-of-type {\n",
       "        vertical-align: middle;\n",
       "    }\n",
       "\n",
       "    .dataframe tbody tr th {\n",
       "        vertical-align: top;\n",
       "    }\n",
       "\n",
       "    .dataframe thead th {\n",
       "        text-align: right;\n",
       "    }\n",
       "</style>\n",
       "<table border=\"1\" class=\"dataframe\">\n",
       "  <thead>\n",
       "    <tr style=\"text-align: right;\">\n",
       "      <th></th>\n",
       "      <th>Inches</th>\n",
       "      <th>ScreenResolution</th>\n",
       "      <th>Ram</th>\n",
       "      <th>Weight</th>\n",
       "      <th>Price</th>\n",
       "      <th>CpuModel</th>\n",
       "      <th>CpuClockSpeed</th>\n",
       "      <th>SSD</th>\n",
       "      <th>HDD</th>\n",
       "      <th>GpuModel</th>\n",
       "      <th>...</th>\n",
       "      <th>OpSys_Linux</th>\n",
       "      <th>OpSys_No OS</th>\n",
       "      <th>OpSys_Windows 10</th>\n",
       "      <th>OpSys_Windows 7</th>\n",
       "      <th>OpSys_macOS</th>\n",
       "      <th>CpuProducer_AMD</th>\n",
       "      <th>CpuProducer_Intel</th>\n",
       "      <th>GpuProducer_AMD</th>\n",
       "      <th>GpuProducer_Intel</th>\n",
       "      <th>GpuProducer_Nvidia</th>\n",
       "    </tr>\n",
       "  </thead>\n",
       "  <tbody>\n",
       "    <tr>\n",
       "      <th>0</th>\n",
       "      <td>13.3</td>\n",
       "      <td>4096000</td>\n",
       "      <td>8</td>\n",
       "      <td>1.37</td>\n",
       "      <td>856.54</td>\n",
       "      <td>Core i5</td>\n",
       "      <td>2.3</td>\n",
       "      <td>128</td>\n",
       "      <td>0</td>\n",
       "      <td>69</td>\n",
       "      <td>...</td>\n",
       "      <td>0</td>\n",
       "      <td>0</td>\n",
       "      <td>0</td>\n",
       "      <td>0</td>\n",
       "      <td>1</td>\n",
       "      <td>0</td>\n",
       "      <td>1</td>\n",
       "      <td>0</td>\n",
       "      <td>1</td>\n",
       "      <td>0</td>\n",
       "    </tr>\n",
       "    <tr>\n",
       "      <th>1</th>\n",
       "      <td>13.3</td>\n",
       "      <td>1296000</td>\n",
       "      <td>8</td>\n",
       "      <td>1.34</td>\n",
       "      <td>574.75</td>\n",
       "      <td>Core i5</td>\n",
       "      <td>1.8</td>\n",
       "      <td>128</td>\n",
       "      <td>0</td>\n",
       "      <td>37</td>\n",
       "      <td>...</td>\n",
       "      <td>0</td>\n",
       "      <td>0</td>\n",
       "      <td>0</td>\n",
       "      <td>0</td>\n",
       "      <td>1</td>\n",
       "      <td>0</td>\n",
       "      <td>1</td>\n",
       "      <td>0</td>\n",
       "      <td>1</td>\n",
       "      <td>0</td>\n",
       "    </tr>\n",
       "    <tr>\n",
       "      <th>2</th>\n",
       "      <td>15.6</td>\n",
       "      <td>2073600</td>\n",
       "      <td>8</td>\n",
       "      <td>1.86</td>\n",
       "      <td>367.63</td>\n",
       "      <td>Core i5</td>\n",
       "      <td>2.5</td>\n",
       "      <td>256</td>\n",
       "      <td>0</td>\n",
       "      <td>44</td>\n",
       "      <td>...</td>\n",
       "      <td>0</td>\n",
       "      <td>1</td>\n",
       "      <td>0</td>\n",
       "      <td>0</td>\n",
       "      <td>0</td>\n",
       "      <td>0</td>\n",
       "      <td>1</td>\n",
       "      <td>0</td>\n",
       "      <td>1</td>\n",
       "      <td>0</td>\n",
       "    </tr>\n",
       "    <tr>\n",
       "      <th>3</th>\n",
       "      <td>15.4</td>\n",
       "      <td>5184000</td>\n",
       "      <td>16</td>\n",
       "      <td>1.83</td>\n",
       "      <td>1622.34</td>\n",
       "      <td>Core i7</td>\n",
       "      <td>2.7</td>\n",
       "      <td>512</td>\n",
       "      <td>0</td>\n",
       "      <td>84</td>\n",
       "      <td>...</td>\n",
       "      <td>0</td>\n",
       "      <td>0</td>\n",
       "      <td>0</td>\n",
       "      <td>0</td>\n",
       "      <td>1</td>\n",
       "      <td>0</td>\n",
       "      <td>1</td>\n",
       "      <td>1</td>\n",
       "      <td>0</td>\n",
       "      <td>0</td>\n",
       "    </tr>\n",
       "    <tr>\n",
       "      <th>4</th>\n",
       "      <td>13.3</td>\n",
       "      <td>4096000</td>\n",
       "      <td>8</td>\n",
       "      <td>1.37</td>\n",
       "      <td>1153.15</td>\n",
       "      <td>Core i5</td>\n",
       "      <td>3.1</td>\n",
       "      <td>256</td>\n",
       "      <td>0</td>\n",
       "      <td>73</td>\n",
       "      <td>...</td>\n",
       "      <td>0</td>\n",
       "      <td>0</td>\n",
       "      <td>0</td>\n",
       "      <td>0</td>\n",
       "      <td>1</td>\n",
       "      <td>0</td>\n",
       "      <td>1</td>\n",
       "      <td>0</td>\n",
       "      <td>1</td>\n",
       "      <td>0</td>\n",
       "    </tr>\n",
       "    <tr>\n",
       "      <th>...</th>\n",
       "      <td>...</td>\n",
       "      <td>...</td>\n",
       "      <td>...</td>\n",
       "      <td>...</td>\n",
       "      <td>...</td>\n",
       "      <td>...</td>\n",
       "      <td>...</td>\n",
       "      <td>...</td>\n",
       "      <td>...</td>\n",
       "      <td>...</td>\n",
       "      <td>...</td>\n",
       "      <td>...</td>\n",
       "      <td>...</td>\n",
       "      <td>...</td>\n",
       "      <td>...</td>\n",
       "      <td>...</td>\n",
       "      <td>...</td>\n",
       "      <td>...</td>\n",
       "      <td>...</td>\n",
       "      <td>...</td>\n",
       "      <td>...</td>\n",
       "    </tr>\n",
       "    <tr>\n",
       "      <th>1298</th>\n",
       "      <td>14</td>\n",
       "      <td>2073600</td>\n",
       "      <td>4</td>\n",
       "      <td>1.80</td>\n",
       "      <td>407.91</td>\n",
       "      <td>Core i7</td>\n",
       "      <td>2.5</td>\n",
       "      <td>128</td>\n",
       "      <td>0</td>\n",
       "      <td>40</td>\n",
       "      <td>...</td>\n",
       "      <td>0</td>\n",
       "      <td>0</td>\n",
       "      <td>1</td>\n",
       "      <td>0</td>\n",
       "      <td>0</td>\n",
       "      <td>0</td>\n",
       "      <td>1</td>\n",
       "      <td>0</td>\n",
       "      <td>1</td>\n",
       "      <td>0</td>\n",
       "    </tr>\n",
       "    <tr>\n",
       "      <th>1299</th>\n",
       "      <td>13.3</td>\n",
       "      <td>5760000</td>\n",
       "      <td>16</td>\n",
       "      <td>1.30</td>\n",
       "      <td>958.40</td>\n",
       "      <td>Core i7</td>\n",
       "      <td>2.5</td>\n",
       "      <td>512</td>\n",
       "      <td>0</td>\n",
       "      <td>40</td>\n",
       "      <td>...</td>\n",
       "      <td>0</td>\n",
       "      <td>0</td>\n",
       "      <td>1</td>\n",
       "      <td>0</td>\n",
       "      <td>0</td>\n",
       "      <td>0</td>\n",
       "      <td>1</td>\n",
       "      <td>0</td>\n",
       "      <td>1</td>\n",
       "      <td>0</td>\n",
       "    </tr>\n",
       "    <tr>\n",
       "      <th>1300</th>\n",
       "      <td>14</td>\n",
       "      <td>1049088</td>\n",
       "      <td>2</td>\n",
       "      <td>1.50</td>\n",
       "      <td>146.41</td>\n",
       "      <td>Celeron Dual Core</td>\n",
       "      <td>1.6</td>\n",
       "      <td>64</td>\n",
       "      <td>0</td>\n",
       "      <td>6</td>\n",
       "      <td>...</td>\n",
       "      <td>0</td>\n",
       "      <td>0</td>\n",
       "      <td>1</td>\n",
       "      <td>0</td>\n",
       "      <td>0</td>\n",
       "      <td>0</td>\n",
       "      <td>1</td>\n",
       "      <td>0</td>\n",
       "      <td>1</td>\n",
       "      <td>0</td>\n",
       "    </tr>\n",
       "    <tr>\n",
       "      <th>1301</th>\n",
       "      <td>15.6</td>\n",
       "      <td>1049088</td>\n",
       "      <td>6</td>\n",
       "      <td>2.19</td>\n",
       "      <td>488.47</td>\n",
       "      <td>Core i7</td>\n",
       "      <td>2.5</td>\n",
       "      <td>0</td>\n",
       "      <td>1024</td>\n",
       "      <td>25</td>\n",
       "      <td>...</td>\n",
       "      <td>0</td>\n",
       "      <td>0</td>\n",
       "      <td>1</td>\n",
       "      <td>0</td>\n",
       "      <td>0</td>\n",
       "      <td>0</td>\n",
       "      <td>1</td>\n",
       "      <td>1</td>\n",
       "      <td>0</td>\n",
       "      <td>0</td>\n",
       "    </tr>\n",
       "    <tr>\n",
       "      <th>1302</th>\n",
       "      <td>15.6</td>\n",
       "      <td>1049088</td>\n",
       "      <td>4</td>\n",
       "      <td>2.20</td>\n",
       "      <td>235.92</td>\n",
       "      <td>Celeron Dual Core</td>\n",
       "      <td>1.6</td>\n",
       "      <td>0</td>\n",
       "      <td>500</td>\n",
       "      <td>6</td>\n",
       "      <td>...</td>\n",
       "      <td>0</td>\n",
       "      <td>0</td>\n",
       "      <td>1</td>\n",
       "      <td>0</td>\n",
       "      <td>0</td>\n",
       "      <td>0</td>\n",
       "      <td>1</td>\n",
       "      <td>0</td>\n",
       "      <td>1</td>\n",
       "      <td>0</td>\n",
       "    </tr>\n",
       "  </tbody>\n",
       "</table>\n",
       "<p>1268 rows × 46 columns</p>\n",
       "</div>"
      ],
      "text/plain": [
       "     Inches  ScreenResolution  Ram  Weight    Price           CpuModel  \\\n",
       "0      13.3           4096000    8    1.37   856.54            Core i5   \n",
       "1      13.3           1296000    8    1.34   574.75            Core i5   \n",
       "2      15.6           2073600    8    1.86   367.63            Core i5   \n",
       "3      15.4           5184000   16    1.83  1622.34            Core i7   \n",
       "4      13.3           4096000    8    1.37  1153.15            Core i5   \n",
       "...     ...               ...  ...     ...      ...                ...   \n",
       "1298     14           2073600    4    1.80   407.91            Core i7   \n",
       "1299   13.3           5760000   16    1.30   958.40            Core i7   \n",
       "1300     14           1049088    2    1.50   146.41  Celeron Dual Core   \n",
       "1301   15.6           1049088    6    2.19   488.47            Core i7   \n",
       "1302   15.6           1049088    4    2.20   235.92  Celeron Dual Core   \n",
       "\n",
       "      CpuClockSpeed  SSD   HDD  GpuModel  ...  OpSys_Linux  OpSys_No OS  \\\n",
       "0               2.3  128     0        69  ...            0            0   \n",
       "1               1.8  128     0        37  ...            0            0   \n",
       "2               2.5  256     0        44  ...            0            1   \n",
       "3               2.7  512     0        84  ...            0            0   \n",
       "4               3.1  256     0        73  ...            0            0   \n",
       "...             ...  ...   ...       ...  ...          ...          ...   \n",
       "1298            2.5  128     0        40  ...            0            0   \n",
       "1299            2.5  512     0        40  ...            0            0   \n",
       "1300            1.6   64     0         6  ...            0            0   \n",
       "1301            2.5    0  1024        25  ...            0            0   \n",
       "1302            1.6    0   500         6  ...            0            0   \n",
       "\n",
       "      OpSys_Windows 10  OpSys_Windows 7  OpSys_macOS  CpuProducer_AMD  \\\n",
       "0                    0                0            1                0   \n",
       "1                    0                0            1                0   \n",
       "2                    0                0            0                0   \n",
       "3                    0                0            1                0   \n",
       "4                    0                0            1                0   \n",
       "...                ...              ...          ...              ...   \n",
       "1298                 1                0            0                0   \n",
       "1299                 1                0            0                0   \n",
       "1300                 1                0            0                0   \n",
       "1301                 1                0            0                0   \n",
       "1302                 1                0            0                0   \n",
       "\n",
       "      CpuProducer_Intel  GpuProducer_AMD  GpuProducer_Intel  \\\n",
       "0                     1                0                  1   \n",
       "1                     1                0                  1   \n",
       "2                     1                0                  1   \n",
       "3                     1                1                  0   \n",
       "4                     1                0                  1   \n",
       "...                 ...              ...                ...   \n",
       "1298                  1                0                  1   \n",
       "1299                  1                0                  1   \n",
       "1300                  1                0                  1   \n",
       "1301                  1                1                  0   \n",
       "1302                  1                0                  1   \n",
       "\n",
       "      GpuProducer_Nvidia  \n",
       "0                      0  \n",
       "1                      0  \n",
       "2                      0  \n",
       "3                      0  \n",
       "4                      0  \n",
       "...                  ...  \n",
       "1298                   0  \n",
       "1299                   0  \n",
       "1300                   0  \n",
       "1301                   0  \n",
       "1302                   0  \n",
       "\n",
       "[1268 rows x 46 columns]"
      ]
     },
     "execution_count": 246,
     "metadata": {},
     "output_type": "execute_result"
    }
   ],
   "source": [
    "df_notna"
   ]
  },
  {
   "cell_type": "code",
   "execution_count": 247,
   "id": "3afe1327-a79e-4070-9974-7a8ba472f85c",
   "metadata": {},
   "outputs": [],
   "source": [
    "# Now to encode the CpuModel according to the performance order\n",
    "df_notna.CpuModel.unique()\n",
    "\n",
    "# Define the order\n",
    "cpu_order = ['Atom', 'Celeron Dual Core', 'A4-Series', 'A6-Series', 'E-Series',\n",
    "             'Pentium Dual Core', 'Pentium Quad Core', 'A9-Series', 'Core M', \n",
    "             'Core i3', 'A8-Series', 'A10-Series', 'A12-Series', 'Core i5', \n",
    "             'Ryzen', 'Core i7', 'FX', 'Xeon']\n",
    "\n",
    "# Create a dictionary that maps each CPU model to its rank\n",
    "cpu_dict = {cpu: i for i, cpu in enumerate(cpu_order)}\n",
    "\n",
    "# Replace the CPU models in the dataframe with their ranks\n",
    "df_notna['CpuModel'] = df_notna['CpuModel'].map(cpu_dict)"
   ]
  },
  {
   "cell_type": "code",
   "execution_count": 248,
   "id": "9d34e2d5",
   "metadata": {},
   "outputs": [],
   "source": [
    "# Now that the DataFrame is numeric, uniform the type\n",
    "df_notna = df_notna.astype(float)"
   ]
  },
  {
   "cell_type": "code",
   "execution_count": 249,
   "id": "6f84cf1a",
   "metadata": {},
   "outputs": [
    {
     "data": {
      "text/plain": [
       "0.49609210997696257"
      ]
     },
     "execution_count": 249,
     "metadata": {},
     "output_type": "execute_result"
    }
   ],
   "source": [
    "# Weight and Inches are likely correlated\n",
    "df_notna['Weight'].corr(df_notna['Inches'])"
   ]
  },
  {
   "cell_type": "code",
   "execution_count": 250,
   "id": "e5990e2b",
   "metadata": {},
   "outputs": [
    {
     "data": {
      "image/png": "[encoded data removed]",
      "text/plain": [
       "<Figure size 1000x500 with 1 Axes>"
      ]
     },
     "metadata": {},
     "output_type": "display_data"
    }
   ],
   "source": [
    "# Plotting scatter plot of 'Weight' and 'Inches'\n",
    "df_filtered = df_notna[(df_notna['Weight'] < 6) & (df_notna['Inches'] < 20)]\n",
    "plt.figure(figsize=(10,5))\n",
    "plt.scatter(df_filtered['Weight'], df_filtered['Inches'])\n",
    "plt.title('Scatter plot of Weight and Inches')\n",
    "plt.xlabel('Weight (kg)')\n",
    "plt.ylabel('Inches')\n",
    "plt.show()"
   ]
  },
  {
   "cell_type": "code",
   "execution_count": 251,
   "id": "9eadff5b",
   "metadata": {},
   "outputs": [],
   "source": [
    "# Since Weight and Inches are correlated, use their product\n",
    "df_notna['Weight_Inches'] = df_notna['Weight'] * df_notna['Inches']\n",
    "df_notna = df_notna.drop('Weight', axis=1)\n",
    "df_notna = df_notna.drop('Inches', axis=1)"
   ]
  },
  {
   "cell_type": "code",
   "execution_count": 252,
   "id": "070a0691-f130-4c1c-947b-551578d0c28e",
   "metadata": {},
   "outputs": [],
   "source": [
    "# Drop remaining null values\n",
    "df_notna = df_notna.dropna()"
   ]
  },
  {
   "cell_type": "code",
   "execution_count": 253,
   "id": "dfc2a982-21e9-442c-a561-d9b9aa9a0530",
   "metadata": {},
   "outputs": [
    {
     "data": {
      "image/png": "[encoded data removed]",
      "text/plain": [
       "<Figure size 1000x600 with 1 Axes>"
      ]
     },
     "metadata": {},
     "output_type": "display_data"
    }
   ],
   "source": [
    "# Target variable\n",
    "plt.figure(figsize=(10,6))\n",
    "plt.hist(df_notna['Price'], bins=30, color='blue', edgecolor='black')\n",
    "plt.title('Distribution of Prices')\n",
    "plt.xlabel('Price')\n",
    "plt.ylabel('Frequency')\n",
    "plt.show()"
   ]
  },
  {
   "cell_type": "code",
   "execution_count": 254,
   "id": "243b0fac",
   "metadata": {},
   "outputs": [],
   "source": [
    "# Counting records before oversampling\n",
    "count_before = len(laptop_df)"
   ]
  },
  {
   "cell_type": "code",
   "execution_count": 255,
   "id": "d1bf5c74",
   "metadata": {},
   "outputs": [
    {
     "name": "stderr",
     "output_type": "stream",
     "text": [
      "dist_matrix: 100%|###################################################################| 167/167 [00:13<00:00, 12.83it/s]\n",
      "synth_matrix: 100%|##################################################################| 167/167 [00:02<00:00, 81.59it/s]\n",
      "r_index: 100%|########################################################################| 83/83 [00:00<00:00, 418.00it/s]\n"
     ]
    }
   ],
   "source": [
    "# Synthetic sampling of high price laptops because of imbalance\n",
    "max_attempts = 5\n",
    "\n",
    "for attempt in range(max_attempts):\n",
    "    try:\n",
    "        # Synthetic sampling of high price laptops because of imbalance\n",
    "        df_notna = smogn.smoter(\n",
    "            data = df_notna, \n",
    "            y = 'Price',\n",
    "            k = 5,                   \n",
    "            samp_method = 'extreme',  \n",
    "            rel_xtrm_type = 'high',\n",
    "            drop_na_col = True,       \n",
    "            drop_na_row = True,       \n",
    "            replace = False)\n",
    "\n",
    "        # If the sampling is successful, break the loop\n",
    "        break\n",
    "\n",
    "    except ValueError as e:\n",
    "        print(f\"Attempt {attempt+1} of {max_attempts} failed with error: {e}\")\n",
    "        print(\"Retrying...\")\n",
    "        \n",
    "        time.sleep(1)\n",
    "    except Exception as e:\n",
    "        print(f\"An unexpected error occurred: {e}\")\n",
    "        break\n"
   ]
  },
  {
   "cell_type": "code",
   "execution_count": 256,
   "id": "895244f5",
   "metadata": {},
   "outputs": [
    {
     "data": {
      "image/png": "[encoded data removed]",
      "text/plain": [
       "<Figure size 1000x500 with 1 Axes>"
      ]
     },
     "metadata": {},
     "output_type": "display_data"
    }
   ],
   "source": [
    "# Plotting the number of records before and after oversampling\n",
    "count_after = len(df_notna)\n",
    "\n",
    "# Plotting histogram of record counts\n",
    "plt.figure(figsize=(10,5))\n",
    "bars = plt.bar(['Before Oversampling', 'After Oversampling'], [count_before, count_after], color=['y', 'b'], width = 0.4)\n",
    "plt.title('Number of Records Before and After Oversampling')\n",
    "plt.ylabel('Number of Records')\n",
    "\n",
    "# Adding the values on top of each bar\n",
    "for bar in bars:\n",
    "    yval = bar.get_height()\n",
    "    plt.text(bar.get_x() + bar.get_width()/2, yval + 0.05, yval, ha='center', va='bottom')\n",
    "    \n",
    "plt.show()"
   ]
  },
  {
   "cell_type": "code",
   "execution_count": 257,
   "id": "fac71525",
   "metadata": {},
   "outputs": [],
   "source": [
    "# Apply logarithm to reduce the impact of high prices\n",
    "df_notna['Price'] = np.log(df_notna['Price'])"
   ]
  },
  {
   "cell_type": "code",
   "execution_count": 258,
   "id": "96845293",
   "metadata": {},
   "outputs": [
    {
     "data": {
      "image/png": "[encoded data removed]",
      "text/plain": [
       "<Figure size 1000x600 with 1 Axes>"
      ]
     },
     "metadata": {},
     "output_type": "display_data"
    }
   ],
   "source": [
    "# After the log\n",
    "plt.figure(figsize=(10,6))\n",
    "plt.hist(df_notna['Price'], bins=30, color='blue', edgecolor='black')\n",
    "plt.title('Distribution of Prices')\n",
    "plt.xlabel('Price')\n",
    "plt.ylabel('Frequency')\n",
    "plt.show()"
   ]
  },
  {
   "cell_type": "markdown",
   "id": "7a178308",
   "metadata": {},
   "source": [
    "# Feature Selection"
   ]
  },
  {
   "cell_type": "code",
   "execution_count": 259,
   "id": "8009568c-bd4e-4aea-a365-45317ba2f43f",
   "metadata": {},
   "outputs": [],
   "source": [
    "# Separate the target variable from the training set and scale it\n",
    "X_train = df_notna.drop('Price', axis=1)\n",
    "y_train = np.ravel(RobustScaler().fit_transform(df_notna['Price'].values.reshape(-1, 1)))"
   ]
  },
  {
   "cell_type": "code",
   "execution_count": 260,
   "id": "17457280",
   "metadata": {},
   "outputs": [],
   "source": [
    "# Set the number of folds for the cross validations in grid searches\n",
    "hp_folds = 5"
   ]
  },
  {
   "cell_type": "code",
   "execution_count": 261,
   "id": "d585a800",
   "metadata": {},
   "outputs": [
    {
     "name": "stdout",
     "output_type": "stream",
     "text": [
      "Fitting 5 folds for each of 48 candidates, totalling 240 fits\n",
      "Best parameters: {'max_depth': None, 'min_samples_split': 2, 'n_estimators': 200}\n"
     ]
    }
   ],
   "source": [
    "# Grid search to tune the hyperparameters of the model for feature selection\n",
    "model = RandomForestRegressor()\n",
    "\n",
    "# Define the parameters grid\n",
    "param_grid = {\n",
    "    'n_estimators': [10, 50, 100, 200],\n",
    "    'max_depth': [None, 10, 20, 30],\n",
    "    'min_samples_split': [2, 5, 10]\n",
    "}\n",
    "\n",
    "# Initialize the GridSearchCV\n",
    "grid_search = GridSearchCV(model, param_grid, cv=hp_folds, \n",
    "                           scoring='neg_mean_squared_error', \n",
    "                           verbose=1, n_jobs=-1)\n",
    "\n",
    "# Fit the GridSearchCV\n",
    "grid_search.fit(X_train, y_train)\n",
    "\n",
    "# Get the best parameters\n",
    "best_parameters = grid_search.best_params_\n",
    "\n",
    "# Print the best parameters\n",
    "print(f'Best parameters: {best_parameters}')"
   ]
  },
  {
   "cell_type": "code",
   "execution_count": 262,
   "id": "decbca1f",
   "metadata": {},
   "outputs": [
    {
     "name": "stdout",
     "output_type": "stream",
     "text": [
      "CpuModel                       0.475432\n",
      "Ram                            0.184549\n",
      "GpuModel                       0.104160\n",
      "TypeName_Notebook              0.072317\n",
      "Weight_Inches                  0.044263\n",
      "SSD                            0.032312\n",
      "CpuClockSpeed                  0.016288\n",
      "ScreenResolution               0.008850\n",
      "Company_HP                     0.008847\n",
      "OpSys_No OS                    0.005781\n",
      "OpSys_Windows 10               0.004595\n",
      "Company_Asus                   0.003899\n",
      "TypeName_Ultrabook             0.003803\n",
      "Company_Acer                   0.003772\n",
      "GpuProducer_Intel              0.003613\n",
      "TypeName_2 in 1 Convertible    0.003611\n",
      "Company_Lenovo                 0.003591\n",
      "Company_Dell                   0.002986\n",
      "HDD                            0.002855\n",
      "OpSys_Windows 7                0.002371\n",
      "Company_Razer                  0.002068\n",
      "TypeName_Gaming                0.001771\n",
      "GpuProducer_Nvidia             0.001508\n",
      "OpSys_Linux                    0.001204\n",
      "Company_Vero                   0.001114\n",
      "Company_Toshiba                0.001070\n",
      "GpuProducer_AMD                0.000931\n",
      "TypeName_Workstation           0.000602\n",
      "Company_MSI                    0.000389\n",
      "OpSys_Chrome OS                0.000360\n",
      "TypeName_Netbook               0.000274\n",
      "Company_Xiaomi                 0.000130\n",
      "CpuProducer_Intel              0.000123\n",
      "CpuProducer_AMD                0.000116\n",
      "Company_Mediacom               0.000089\n",
      "Company_LG                     0.000074\n",
      "Company_Samsung                0.000066\n",
      "OpSys_macOS                    0.000063\n",
      "Company_Apple                  0.000056\n",
      "Company_Microsoft              0.000054\n",
      "Company_Huawei                 0.000022\n",
      "Company_Fujitsu                0.000015\n",
      "Company_Google                 0.000003\n",
      "Company_Chuwi                  0.000002\n",
      "dtype: float64\n"
     ]
    },
    {
     "data": {
      "image/png": "[encoded data removed]",
      "text/plain": [
       "<Figure size 1000x600 with 1 Axes>"
      ]
     },
     "metadata": {},
     "output_type": "display_data"
    }
   ],
   "source": [
    "# Create a new model with the best parameters\n",
    "model = grid_search.best_estimator_\n",
    "\n",
    "# Fit the model to compute the feature importances\n",
    "model.fit(X_train, y_train)\n",
    "\n",
    "# Get the feature importances\n",
    "importances = model.feature_importances_\n",
    "\n",
    "# Get the names of the features from the DataFrame\n",
    "feature_names = X_train.columns\n",
    "\n",
    "# Create a Series with the feature importances, sort it in descending order\n",
    "importance_series = pd.Series(importances, index=feature_names).sort_values(ascending=False)\n",
    "\n",
    "# Print the feature importances\n",
    "print(importance_series)\n",
    "\n",
    "# Plot the feature importances\n",
    "plt.figure(figsize=(10, 6))\n",
    "importance_series.plot(kind='bar')\n",
    "plt.title('Feature Importance')\n",
    "plt.ylabel('Importance')\n",
    "plt.show()"
   ]
  },
  {
   "cell_type": "code",
   "execution_count": 263,
   "id": "d4f6ab88",
   "metadata": {},
   "outputs": [],
   "source": [
    "# Features whose importance is over a threshold\n",
    "important_features_mask = importances >= 0.001\n",
    "best_n_features = important_features_mask.sum()\n",
    "\n",
    "# Tuned model for feature selection\n",
    "model = grid_search.best_estimator_\n",
    "\n",
    "# Fit to the training data\n",
    "rfe = RFE(estimator = model, n_features_to_select = best_n_features)"
   ]
  },
  {
   "cell_type": "markdown",
   "id": "9ee66e9b",
   "metadata": {},
   "source": [
    "# Models Training and Evaluation Setup"
   ]
  },
  {
   "cell_type": "code",
   "execution_count": 264,
   "id": "769486d5",
   "metadata": {},
   "outputs": [],
   "source": [
    "# These custom functions are necessary to convert back prices from log transformation during evaluation\n",
    "def custom_mae(y_true, y_pred):\n",
    "    y_pred_orig = np.exp(y_pred)\n",
    "    y_true_orig = np.exp(y_true)\n",
    "    return mean_absolute_error(y_true_orig, y_pred_orig)\n",
    "\n",
    "def custom_r2(y_true, y_pred):\n",
    "    y_pred_orig = np.exp(y_pred)\n",
    "    y_true_orig = np.exp(y_true)\n",
    "    return r2_score(y_true_orig, y_pred_orig)\n",
    "\n",
    "scoring = {'neg_mean_absolute_error': make_scorer(custom_mae, greater_is_better=False),\n",
    "           'r2': make_scorer(custom_r2)}\n",
    "\n",
    "# Initialize a list of models\n",
    "models = []"
   ]
  },
  {
   "cell_type": "markdown",
   "id": "b8fabb89",
   "metadata": {},
   "source": [
    "# Linear Regression Model"
   ]
  },
  {
   "cell_type": "code",
   "execution_count": 265,
   "id": "3457bf24-fe56-4381-af1a-09eaa09a5316",
   "metadata": {},
   "outputs": [],
   "source": [
    "model_lr = LinearRegression()\n",
    "\n",
    "# Building a pipeline\n",
    "estimators = [('scaling', RobustScaler()), ('feature-selection', rfe), \n",
    "              ('clf', model_lr)]\n",
    "pipe_lr = Pipeline(estimators)\n",
    "\n",
    "models.append(pipe_lr)"
   ]
  },
  {
   "cell_type": "markdown",
   "id": "1b385da5",
   "metadata": {},
   "source": [
    "# Random Forest Model"
   ]
  },
  {
   "cell_type": "code",
   "execution_count": 266,
   "id": "d06258e1",
   "metadata": {},
   "outputs": [
    {
     "name": "stdout",
     "output_type": "stream",
     "text": [
      "Fitting 5 folds for each of 48 candidates, totalling 240 fits\n",
      "Best parameters: {'max_depth': None, 'min_samples_split': 2, 'n_estimators': 100}\n"
     ]
    }
   ],
   "source": [
    "# Grid search for hyperparameters tuning\n",
    "model = RandomForestRegressor()\n",
    "\n",
    "# Define the parameters grid\n",
    "param_grid = {\n",
    "    'n_estimators': [10, 50, 100, 200],\n",
    "    'max_depth': [None, 10, 20, 30],\n",
    "    'min_samples_split': [2, 5, 10]\n",
    "}\n",
    "\n",
    "# Initialize the GridSearchCV\n",
    "grid_search = GridSearchCV(estimator=model, param_grid=param_grid, cv=hp_folds, \n",
    "                           scoring=make_scorer(mean_absolute_error, \n",
    "                                       greater_is_better=False), \n",
    "                           verbose=1, n_jobs=-1)\n",
    "\n",
    "# Fit the GridSearchCV\n",
    "grid_search.fit(X_train, y_train)\n",
    "\n",
    "# Get the best parameters\n",
    "best_parameters = grid_search.best_params_\n",
    "\n",
    "# Print the best parameters\n",
    "print(f'Best parameters: {best_parameters}')"
   ]
  },
  {
   "cell_type": "code",
   "execution_count": 267,
   "id": "b8b24e79-5bf8-45d7-91ec-e8d87ec6405e",
   "metadata": {},
   "outputs": [],
   "source": [
    "model_rf = grid_search.best_estimator_\n",
    "\n",
    "# Building a pipeline\n",
    "estimators = [('scaling', RobustScaler()),\n",
    "              ('feature-selection', rfe), ('clf', model_rf)]\n",
    "pipe_rf = Pipeline(estimators)\n",
    "\n",
    "models.append(pipe_rf)"
   ]
  },
  {
   "cell_type": "markdown",
   "id": "d322463c",
   "metadata": {},
   "source": [
    "# K-Nearest Neighbours Model"
   ]
  },
  {
   "cell_type": "code",
   "execution_count": 268,
   "id": "fc4e4467",
   "metadata": {},
   "outputs": [
    {
     "name": "stdout",
     "output_type": "stream",
     "text": [
      "Fitting 5 folds for each of 12 candidates, totalling 60 fits\n",
      "Best parameters: {'metric': 'manhattan', 'n_neighbors': 3, 'weights': 'distance'}\n"
     ]
    }
   ],
   "source": [
    "# Initialize the K-Nearest Neighbours Regressor\n",
    "model = KNeighborsRegressor()\n",
    "\n",
    "# Define the parameters grid\n",
    "param_grid = {\n",
    "    'n_neighbors': [3, 5, 10],\n",
    "    'weights': ['uniform', 'distance'],\n",
    "    'metric': ['euclidean', 'manhattan']\n",
    "}\n",
    "\n",
    "# Initialize the GridSearchCV\n",
    "grid_search = GridSearchCV(estimator=model, param_grid=param_grid, cv=hp_folds, \n",
    "                           scoring=make_scorer(mean_absolute_error, \n",
    "                                       greater_is_better=False), \n",
    "                           verbose=1, n_jobs=-1)\n",
    "\n",
    "# Fit the GridSearchCV\n",
    "grid_search.fit(X_train, y_train)\n",
    "\n",
    "# Get the best parameters\n",
    "best_parameters = grid_search.best_params_\n",
    "\n",
    "# Print the best parameters\n",
    "print(f'Best parameters: {best_parameters}')\n"
   ]
  },
  {
   "cell_type": "code",
   "execution_count": 269,
   "id": "9d10a051-40f7-4f12-83ef-df0a420f5a3b",
   "metadata": {},
   "outputs": [],
   "source": [
    "model_knn = grid_search.best_estimator_\n",
    "\n",
    "# Building a pipeline\n",
    "estimators = [('scaling', RobustScaler()),\n",
    "              ('feature-selection', rfe), ('clf', model_knn)]\n",
    "pipe_knn = Pipeline(estimators)\n",
    "\n",
    "models.append(pipe_knn)"
   ]
  },
  {
   "cell_type": "markdown",
   "id": "df734143",
   "metadata": {},
   "source": [
    "# Decision Tree Model"
   ]
  },
  {
   "cell_type": "code",
   "execution_count": 270,
   "id": "e60b71f7",
   "metadata": {},
   "outputs": [
    {
     "name": "stdout",
     "output_type": "stream",
     "text": [
      "Fitting 5 folds for each of 36 candidates, totalling 180 fits\n",
      "Best parameters: {'criterion': 'friedman_mse', 'max_depth': 20, 'min_samples_split': 10}\n"
     ]
    }
   ],
   "source": [
    "# Initialize the Decision Tree Regressor\n",
    "model = DecisionTreeRegressor()\n",
    "\n",
    "# Define the parameters grid\n",
    "param_grid = {\n",
    "    'criterion': ['absolute_error', 'friedman_mse', 'squared_error'],\n",
    "    'max_depth': [None, 10, 20, 30],\n",
    "    'min_samples_split': [2, 5, 10]\n",
    "}\n",
    "\n",
    "# Initialize the GridSearchCV\n",
    "grid_search = GridSearchCV(estimator=model, param_grid=param_grid, cv=hp_folds, \n",
    "                           scoring=make_scorer(mean_absolute_error, \n",
    "                           greater_is_better=False), \n",
    "                           verbose=1, n_jobs=-1)\n",
    "\n",
    "# Fit the GridSearchCV\n",
    "grid_search.fit(X_train, y_train)\n",
    "\n",
    "# Get the best parameters\n",
    "best_parameters = grid_search.best_params_\n",
    "\n",
    "# Print the best parameters\n",
    "print(f'Best parameters: {best_parameters}')"
   ]
  },
  {
   "cell_type": "code",
   "execution_count": 271,
   "id": "96b953a0-721d-4d26-9026-bbf0e678607c",
   "metadata": {
    "scrolled": false
   },
   "outputs": [],
   "source": [
    "model_dt = grid_search.best_estimator_\n",
    "\n",
    "# Building a pipeline\n",
    "estimators = [('scaling', RobustScaler()),\n",
    "              ('feature-selection', rfe), ('clf', model_dt)]\n",
    "pipe_dt = Pipeline(estimators)\n",
    "\n",
    "models.append(pipe_dt)"
   ]
  },
  {
   "cell_type": "markdown",
   "id": "8e36c3bf",
   "metadata": {},
   "source": [
    "# AdaBoost Model"
   ]
  },
  {
   "cell_type": "code",
   "execution_count": 272,
   "id": "85adfd38",
   "metadata": {},
   "outputs": [
    {
     "name": "stdout",
     "output_type": "stream",
     "text": [
      "Fitting 5 folds for each of 36 candidates, totalling 180 fits\n",
      "Best parameters: {'learning_rate': 0.1, 'loss': 'linear', 'n_estimators': 1500}\n"
     ]
    }
   ],
   "source": [
    "# Initialize the AdaBoost Regressor\n",
    "model = AdaBoostRegressor()\n",
    "\n",
    "# Define the parameters grid\n",
    "param_grid = {\n",
    "    'n_estimators': [500, 1000, 1500],\n",
    "    'learning_rate': [0.01, 0.1, 0.5, 1.0],\n",
    "    'loss': ['linear', 'square', 'exponential']\n",
    "}\n",
    "\n",
    "# Initialize the GridSearchCV\n",
    "grid_search = GridSearchCV(estimator=model, param_grid=param_grid, cv=hp_folds, \n",
    "                           scoring=make_scorer(mean_absolute_error, \n",
    "                                       greater_is_better=False),\n",
    "                           verbose=1, n_jobs=-1)\n",
    "\n",
    "# Fit the GridSearchCV\n",
    "grid_search.fit(X_train, y_train)\n",
    "\n",
    "# Get the best parameters\n",
    "best_parameters = grid_search.best_params_\n",
    "\n",
    "# Print the best parameters\n",
    "print(f'Best parameters: {best_parameters}')"
   ]
  },
  {
   "cell_type": "code",
   "execution_count": 273,
   "id": "e6219e11-2b1c-4e08-bfe7-d1b72df2de26",
   "metadata": {},
   "outputs": [],
   "source": [
    "model_ada = grid_search.best_estimator_\n",
    "\n",
    "# Building a pipeline\n",
    "estimators = [('scaling', RobustScaler()),\n",
    "              ('feature-selection', rfe), ('clf', model_ada)]\n",
    "pipe_ada = Pipeline(estimators)\n",
    "\n",
    "models.append(pipe_ada)"
   ]
  },
  {
   "cell_type": "markdown",
   "id": "06837549",
   "metadata": {},
   "source": [
    "# Gradient Boosting Model"
   ]
  },
  {
   "cell_type": "code",
   "execution_count": 274,
   "id": "7a2f0f1a",
   "metadata": {},
   "outputs": [
    {
     "name": "stdout",
     "output_type": "stream",
     "text": [
      "Fitting 5 folds for each of 81 candidates, totalling 405 fits\n",
      "Best parameters: {'learning_rate': 0.1, 'max_depth': 10, 'max_features': 'sqrt', 'n_estimators': 100}\n"
     ]
    }
   ],
   "source": [
    "# Initialize the Gradient Boost Regressor\n",
    "model = GradientBoostingRegressor()\n",
    "\n",
    "# Define the parameters grid\n",
    "param_grid = {\n",
    "    'n_estimators': [50, 100, 200],\n",
    "    'learning_rate': [0.01, 0.1, 1.0],\n",
    "    'max_depth': [3, 5, 10],\n",
    "    'max_features': ['auto', 'sqrt', 'log2']\n",
    "}\n",
    "\n",
    "# Initialize the GridSearchCV\n",
    "grid_search = GridSearchCV(estimator=model, param_grid=param_grid, cv=hp_folds, \n",
    "                           scoring=make_scorer(mean_absolute_error, \n",
    "                           greater_is_better=False), \n",
    "                           verbose=1, n_jobs=-1)\n",
    "\n",
    "# Fit the GridSearchCV\n",
    "grid_search.fit(X_train, y_train)\n",
    "\n",
    "# Get the best parameters\n",
    "best_parameters = grid_search.best_params_\n",
    "\n",
    "# Print the best parameters\n",
    "print(f'Best parameters: {best_parameters}')"
   ]
  },
  {
   "cell_type": "code",
   "execution_count": 275,
   "id": "576d647e",
   "metadata": {},
   "outputs": [],
   "source": [
    "model_gb = grid_search.best_estimator_\n",
    "\n",
    "# Building a pipeline\n",
    "estimators = [('scaling', RobustScaler()), \n",
    "              ('feature-selection', rfe), ('clf', model_gb)]\n",
    "pipe_gb = Pipeline(estimators)\n",
    "\n",
    "models.append(pipe_gb)"
   ]
  },
  {
   "cell_type": "markdown",
   "id": "f1452ce9",
   "metadata": {},
   "source": [
    "# Training and Cross Validation "
   ]
  },
  {
   "cell_type": "code",
   "execution_count": 276,
   "id": "e185de64",
   "metadata": {
    "scrolled": true
   },
   "outputs": [],
   "source": [
    "# Lists to store scores\n",
    "scores_all_models_mae = []\n",
    "scores_all_models_r2 = []\n",
    "\n",
    "# Lists to store averages over the 10 folds\n",
    "mean_scores_all_models_mae = []\n",
    "mean_scores_all_models_r2 = []\n",
    "\n",
    "\n",
    "# Create a KFold object with a fixed random state to train on the same folds and be able to apply statistical tests\n",
    "kf = KFold(n_splits=10, shuffle=True, random_state=42)\n",
    "\n",
    "# Loop to train and evaluate models\n",
    "for model in models:\n",
    "    scores = cross_validate(model, X_train, y_train, cv=kf, scoring = scoring)\n",
    "    \n",
    "    # Scores stored\n",
    "    scores_all_models_mae.append(scores['test_neg_mean_absolute_error'])\n",
    "    scores_all_models_r2.append(scores['test_r2'])\n",
    "    \n",
    "    # Mean scores stored\n",
    "    mean_scores_all_models_mae.append(np.mean(scores['test_neg_mean_absolute_error']))\n",
    "    mean_scores_all_models_r2.append(np.mean(scores['test_r2']))"
   ]
  },
  {
   "cell_type": "markdown",
   "id": "79a0c598",
   "metadata": {},
   "source": [
    "# Results and Comparison"
   ]
  },
  {
   "cell_type": "code",
   "execution_count": 277,
   "id": "a8f0ff6b",
   "metadata": {},
   "outputs": [
    {
     "name": "stdout",
     "output_type": "stream",
     "text": [
      "Model Performance:\n",
      "\n",
      "Linear Regression:\n",
      "Mean MAE:  0.23108786228388664\n",
      "Mean R2:  0.7956515734561769\n",
      "\n",
      "Random Forest:\n",
      "Mean MAE:  0.1571779099864062\n",
      "Mean R2:  0.8869266121619397\n",
      "\n",
      "K-Nearest Neighbours:\n",
      "Mean MAE:  0.17232517797606922\n",
      "Mean R2:  0.8634276045397271\n",
      "\n",
      "Decision Tree:\n",
      "Mean MAE:  0.21023937691152933\n",
      "Mean R2:  0.7916578857409993\n",
      "\n",
      "AdaBoost:\n",
      "Mean MAE:  0.23559313019559233\n",
      "Mean R2:  0.7809192193024306\n",
      "\n",
      "Gradient Boosting:\n",
      "Mean MAE:  0.14771994266609728\n",
      "Mean R2:  0.9011106927079522\n"
     ]
    }
   ],
   "source": [
    "# Average evaluation metrics for the 10 folds of each model\n",
    "model_names = ['Linear Regression', 'Random Forest', 'K-Nearest Neighbours', 'Decision Tree', 'AdaBoost', 'Gradient Boosting']\n",
    "\n",
    "print(\"Model Performance:\")\n",
    "for i in range(len(models)):\n",
    "    print(\"\\n\" + model_names[i] + \":\")\n",
    "    print(\"Mean MAE: \", -mean_scores_all_models_mae[i])\n",
    "    print(\"Mean R2: \", mean_scores_all_models_r2[i])"
   ]
  },
  {
   "cell_type": "code",
   "execution_count": 280,
   "id": "39be57b2",
   "metadata": {},
   "outputs": [
    {
     "data": {
      "image/png": "[encoded data removed]",
      "text/plain": [
       "<Figure size 1000x1000 with 2 Axes>"
      ]
     },
     "metadata": {},
     "output_type": "display_data"
    }
   ],
   "source": [
    "# Convert scores to positive values for plotting\n",
    "positive_mae_scores = [-score for score in mean_scores_all_models_mae]\n",
    "\n",
    "# Create a figure with two subplots\n",
    "fig, ax = plt.subplots(2, 1, figsize=(10, 10))\n",
    "\n",
    "# Plot Mean MAE scores\n",
    "ax[0].bar(model_names, positive_mae_scores, color='skyblue')\n",
    "ax[0].set_title('Comparison of Mean MAE Scores')\n",
    "ax[0].set_ylabel('Mean MAE')\n",
    "ax[0].set_xlabel('Models')\n",
    "\n",
    "# Plot Mean R2 scores\n",
    "ax[1].bar(model_names, mean_scores_all_models_r2, color='steelblue')\n",
    "ax[1].set_title('Comparison of Mean R2 Scores')\n",
    "ax[1].set_ylabel('Mean R2')\n",
    "ax[1].set_xlabel('Models')\n",
    "\n",
    "# Improve layout\n",
    "plt.tight_layout()\n",
    "plt.show()"
   ]
  },
  {
   "cell_type": "code",
   "execution_count": 289,
   "id": "ecc28a82",
   "metadata": {},
   "outputs": [
    {
     "name": "stdout",
     "output_type": "stream",
     "text": [
      "Test:  WilcoxonResult(statistic=6.0, pvalue=0.02734375)\n"
     ]
    }
   ],
   "source": [
    "# Wilcoxon test for mae on K-Nearest Neighbours and Random Forest models\n",
    "print('Test: ', wilcoxon(scores_all_models_mae[1], scores_all_models_mae[2]))"
   ]
  },
  {
   "cell_type": "code",
   "execution_count": 296,
   "id": "51ca2eb9",
   "metadata": {},
   "outputs": [
    {
     "name": "stdout",
     "output_type": "stream",
     "text": [
      "Test:  WilcoxonResult(statistic=2.0, pvalue=0.005859375)\n"
     ]
    }
   ],
   "source": [
    "# Wilcoxon test for mae on K-Nearest Neighbours and Gradient Boosting models\n",
    "print('Test: ', wilcoxon(scores_all_models_mae[2], scores_all_models_mae[5]))"
   ]
  },
  {
   "cell_type": "code",
   "execution_count": 297,
   "id": "643a7f7e",
   "metadata": {},
   "outputs": [
    {
     "name": "stdout",
     "output_type": "stream",
     "text": [
      "Test:  WilcoxonResult(statistic=2.0, pvalue=0.005859375)\n"
     ]
    }
   ],
   "source": [
    "# Wilcoxon test for mae on Random Forest and Gradient Boosting models\n",
    "print('Test: ', wilcoxon(scores_all_models_mae[1], scores_all_models_mae[5]))"
   ]
  },
  {
   "cell_type": "code",
   "execution_count": 295,
   "id": "97981e25",
   "metadata": {},
   "outputs": [
    {
     "name": "stdout",
     "output_type": "stream",
     "text": [
      "Test:  WilcoxonResult(statistic=11.0, pvalue=0.10546875)\n"
     ]
    }
   ],
   "source": [
    "# Wilcoxon test for r2 on K-Nearest Neighbours and Random Forest models\n",
    "print('Test: ', wilcoxon(scores_all_models_r2[1], scores_all_models_r2[2]))"
   ]
  },
  {
   "cell_type": "code",
   "execution_count": 293,
   "id": "08a32d49",
   "metadata": {},
   "outputs": [
    {
     "name": "stdout",
     "output_type": "stream",
     "text": [
      "Test:  WilcoxonResult(statistic=5.0, pvalue=0.01953125)\n"
     ]
    }
   ],
   "source": [
    "# Wilcoxon test for r2 on K-Nearest Neighbours and Gradient Boosting models\n",
    "print('Test: ', wilcoxon(scores_all_models_r2[2], scores_all_models_r2[5]))"
   ]
  },
  {
   "cell_type": "code",
   "execution_count": 292,
   "id": "0d1385a7",
   "metadata": {},
   "outputs": [
    {
     "name": "stdout",
     "output_type": "stream",
     "text": [
      "Test:  WilcoxonResult(statistic=1.0, pvalue=0.00390625)\n"
     ]
    }
   ],
   "source": [
    "# Wilcoxon test for r2 on Random Forest and Gradient Boosting models\n",
    "print('Test: ', wilcoxon(scores_all_models_r2[1], scores_all_models_r2[5]))"
   ]
  }
 ],
 "metadata": {
  "kernelspec": {
   "display_name": "Python 3 (ipykernel)",
   "language": "python",
   "name": "python3"
  },
  "language_info": {
   "codemirror_mode": {
    "name": "ipython",
    "version": 3
   },
   "file_extension": ".py",
   "mimetype": "text/x-python",
   "name": "python",
   "nbconvert_exporter": "python",
   "pygments_lexer": "ipython3",
   "version": "3.11.7"
  }
 },
 "nbformat": 4,
 "nbformat_minor": 5
}
